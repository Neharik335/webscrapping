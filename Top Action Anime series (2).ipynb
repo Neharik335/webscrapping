{
 "cells": [
  {
   "cell_type": "markdown",
   "id": "be7fabe2",
   "metadata": {},
   "source": [
    "# Problem Statement:"
   ]
  },
  {
   "cell_type": "markdown",
   "id": "26d34a14",
   "metadata": {},
   "source": [
    "Now a days people usually search for the best rated anime based on the genre and their interests.\n",
    "\n",
    "Some people are interested in latest released  Action anime too.\n",
    "\n",
    "So, we decided to do the analysis on anime based on Action sector and also used the website “My anime list”  which releases the accurate and genuine reviews.\n",
    "\n",
    "\n"
   ]
  },
  {
   "cell_type": "code",
   "execution_count": 1,
   "id": "53b964e1",
   "metadata": {},
   "outputs": [],
   "source": [
    "import numpy as np\n",
    "import pandas as pd\n",
    "import requests\n",
    "from bs4 import BeautifulSoup\n",
    "import re"
   ]
  },
  {
   "cell_type": "code",
   "execution_count": 2,
   "id": "96a2a4e8",
   "metadata": {},
   "outputs": [],
   "source": [
    "df=pd.read_csv(\"C:\\\\Users\\\\Admin\\\\Anime.csv\")"
   ]
  },
  {
   "cell_type": "code",
   "execution_count": 3,
   "id": "337ddb50",
   "metadata": {
    "scrolled": true
   },
   "outputs": [
    {
     "data": {
      "text/html": [
       "<div>\n",
       "<style scoped>\n",
       "    .dataframe tbody tr th:only-of-type {\n",
       "        vertical-align: middle;\n",
       "    }\n",
       "\n",
       "    .dataframe tbody tr th {\n",
       "        vertical-align: top;\n",
       "    }\n",
       "\n",
       "    .dataframe thead th {\n",
       "        text-align: right;\n",
       "    }\n",
       "</style>\n",
       "<table border=\"1\" class=\"dataframe\">\n",
       "  <thead>\n",
       "    <tr style=\"text-align: right;\">\n",
       "      <th></th>\n",
       "      <th>Unnamed: 0</th>\n",
       "      <th>Title</th>\n",
       "      <th>Users</th>\n",
       "      <th>Rating</th>\n",
       "      <th>Released</th>\n",
       "      <th>Source</th>\n",
       "      <th>Studio</th>\n",
       "      <th>Demographic</th>\n",
       "    </tr>\n",
       "  </thead>\n",
       "  <tbody>\n",
       "    <tr>\n",
       "      <th>0</th>\n",
       "      <td>0</td>\n",
       "      <td>Shingeki no Kyojin</td>\n",
       "      <td>3.6M</td>\n",
       "      <td>8.53</td>\n",
       "      <td>TV, 2013</td>\n",
       "      <td>['Manga']</td>\n",
       "      <td>['Wit Studio']</td>\n",
       "      <td>['Shounen']</td>\n",
       "    </tr>\n",
       "    <tr>\n",
       "      <th>1</th>\n",
       "      <td>1</td>\n",
       "      <td>Fullmetal Alchemist: Brotherhood</td>\n",
       "      <td>3.1M</td>\n",
       "      <td>9.11</td>\n",
       "      <td>TV, 2009</td>\n",
       "      <td>['Manga']</td>\n",
       "      <td>['Bones']</td>\n",
       "      <td>['Shounen']</td>\n",
       "    </tr>\n",
       "    <tr>\n",
       "      <th>2</th>\n",
       "      <td>2</td>\n",
       "      <td>One Punch Man</td>\n",
       "      <td>3.0M</td>\n",
       "      <td>8.50</td>\n",
       "      <td>TV, 2015</td>\n",
       "      <td>['Web manga']</td>\n",
       "      <td>['Madhouse']</td>\n",
       "      <td>['Seinen']</td>\n",
       "    </tr>\n",
       "    <tr>\n",
       "      <th>3</th>\n",
       "      <td>3</td>\n",
       "      <td>Sword Art Online</td>\n",
       "      <td>2.9M</td>\n",
       "      <td>7.20</td>\n",
       "      <td>TV, 2012</td>\n",
       "      <td>['Light novel']</td>\n",
       "      <td>['A-1 Pictures']</td>\n",
       "      <td>[]</td>\n",
       "    </tr>\n",
       "    <tr>\n",
       "      <th>4</th>\n",
       "      <td>4</td>\n",
       "      <td>Boku no Hero Academia</td>\n",
       "      <td>2.8M</td>\n",
       "      <td>7.91</td>\n",
       "      <td>TV, 2016</td>\n",
       "      <td>['Manga']</td>\n",
       "      <td>['Bones']</td>\n",
       "      <td>['Shounen']</td>\n",
       "    </tr>\n",
       "    <tr>\n",
       "      <th>...</th>\n",
       "      <td>...</td>\n",
       "      <td>...</td>\n",
       "      <td>...</td>\n",
       "      <td>...</td>\n",
       "      <td>...</td>\n",
       "      <td>...</td>\n",
       "      <td>...</td>\n",
       "      <td>...</td>\n",
       "    </tr>\n",
       "    <tr>\n",
       "      <th>630</th>\n",
       "      <td>630</td>\n",
       "      <td>Assault Lily: Bouquet</td>\n",
       "      <td>80K</td>\n",
       "      <td>6.47</td>\n",
       "      <td>TV, 2020</td>\n",
       "      <td>['Mixed media']</td>\n",
       "      <td>['Shaft']</td>\n",
       "      <td>[]</td>\n",
       "    </tr>\n",
       "    <tr>\n",
       "      <th>631</th>\n",
       "      <td>631</td>\n",
       "      <td>Persona: Trinity Soul</td>\n",
       "      <td>80K</td>\n",
       "      <td>6.52</td>\n",
       "      <td>TV, 2008</td>\n",
       "      <td>['Original']</td>\n",
       "      <td>['A-1 Pictures']</td>\n",
       "      <td>[]</td>\n",
       "    </tr>\n",
       "    <tr>\n",
       "      <th>632</th>\n",
       "      <td>632</td>\n",
       "      <td>Touken Ranbu: Hanamaru</td>\n",
       "      <td>80K</td>\n",
       "      <td>6.83</td>\n",
       "      <td>TV, 2016</td>\n",
       "      <td>['Game']</td>\n",
       "      <td>['Doga Kobo']</td>\n",
       "      <td>[]</td>\n",
       "    </tr>\n",
       "    <tr>\n",
       "      <th>633</th>\n",
       "      <td>633</td>\n",
       "      <td>Trigun Stampede</td>\n",
       "      <td>80K</td>\n",
       "      <td>7.35</td>\n",
       "      <td>TV, 2023</td>\n",
       "      <td>['Manga']</td>\n",
       "      <td>['Orange']</td>\n",
       "      <td>['Shounen']</td>\n",
       "    </tr>\n",
       "    <tr>\n",
       "      <th>634</th>\n",
       "      <td>634</td>\n",
       "      <td>Mahou Shoujo Tokushusen Asuka</td>\n",
       "      <td>79K</td>\n",
       "      <td>6.33</td>\n",
       "      <td>TV, 2019</td>\n",
       "      <td>['Manga']</td>\n",
       "      <td>['LIDENFILMS']</td>\n",
       "      <td>['Seinen']</td>\n",
       "    </tr>\n",
       "  </tbody>\n",
       "</table>\n",
       "<p>635 rows × 8 columns</p>\n",
       "</div>"
      ],
      "text/plain": [
       "     Unnamed: 0                             Title Users  Rating  Released  \\\n",
       "0             0                Shingeki no Kyojin  3.6M    8.53  TV, 2013   \n",
       "1             1  Fullmetal Alchemist: Brotherhood  3.1M    9.11  TV, 2009   \n",
       "2             2                     One Punch Man  3.0M    8.50  TV, 2015   \n",
       "3             3                  Sword Art Online  2.9M    7.20  TV, 2012   \n",
       "4             4             Boku no Hero Academia  2.8M    7.91  TV, 2016   \n",
       "..          ...                               ...   ...     ...       ...   \n",
       "630         630             Assault Lily: Bouquet   80K    6.47  TV, 2020   \n",
       "631         631             Persona: Trinity Soul   80K    6.52  TV, 2008   \n",
       "632         632            Touken Ranbu: Hanamaru   80K    6.83  TV, 2016   \n",
       "633         633                   Trigun Stampede   80K    7.35  TV, 2023   \n",
       "634         634     Mahou Shoujo Tokushusen Asuka   79K    6.33  TV, 2019   \n",
       "\n",
       "              Source            Studio  Demographic  \n",
       "0          ['Manga']    ['Wit Studio']  ['Shounen']  \n",
       "1          ['Manga']         ['Bones']  ['Shounen']  \n",
       "2      ['Web manga']      ['Madhouse']   ['Seinen']  \n",
       "3    ['Light novel']  ['A-1 Pictures']           []  \n",
       "4          ['Manga']         ['Bones']  ['Shounen']  \n",
       "..               ...               ...          ...  \n",
       "630  ['Mixed media']         ['Shaft']           []  \n",
       "631     ['Original']  ['A-1 Pictures']           []  \n",
       "632         ['Game']     ['Doga Kobo']           []  \n",
       "633        ['Manga']        ['Orange']  ['Shounen']  \n",
       "634        ['Manga']    ['LIDENFILMS']   ['Seinen']  \n",
       "\n",
       "[635 rows x 8 columns]"
      ]
     },
     "execution_count": 3,
     "metadata": {},
     "output_type": "execute_result"
    }
   ],
   "source": [
    "df"
   ]
  },
  {
   "cell_type": "markdown",
   "id": "10e5d811",
   "metadata": {},
   "source": [
    "# Data cleaning(removing\"[]\" and ')"
   ]
  },
  {
   "cell_type": "code",
   "execution_count": 4,
   "id": "9728d18a",
   "metadata": {},
   "outputs": [
    {
     "name": "stderr",
     "output_type": "stream",
     "text": [
      "C:\\Users\\Admin\\AppData\\Local\\Temp\\ipykernel_6288\\3758050641.py:1: FutureWarning: The default value of regex will change from True to False in a future version. In addition, single character regular expressions will *not* be treated as literal strings when regex=True.\n",
      "  df[\"Source\"] =df[\"Source\"].str.replace(\"[\",\"\").str.replace(\"]\",\"\").str.replace(\"'\",\"\")\n",
      "C:\\Users\\Admin\\AppData\\Local\\Temp\\ipykernel_6288\\3758050641.py:2: FutureWarning: The default value of regex will change from True to False in a future version. In addition, single character regular expressions will *not* be treated as literal strings when regex=True.\n",
      "  df[\"Studio\"] =df[\"Studio\"].str.replace(\"[\",\"\").str.replace(\"]\",\"\").str.replace(\"'\",\"\")\n",
      "C:\\Users\\Admin\\AppData\\Local\\Temp\\ipykernel_6288\\3758050641.py:3: FutureWarning: The default value of regex will change from True to False in a future version. In addition, single character regular expressions will *not* be treated as literal strings when regex=True.\n",
      "  df[\"Demographic\"] =df[\"Demographic\"].str.replace(\"[\",\"\").str.replace(\"]\",\"\").str.replace(\"'\",\"\")\n"
     ]
    }
   ],
   "source": [
    "df[\"Source\"] =df[\"Source\"].str.replace(\"[\",\"\").str.replace(\"]\",\"\").str.replace(\"'\",\"\")\n",
    "df[\"Studio\"] =df[\"Studio\"].str.replace(\"[\",\"\").str.replace(\"]\",\"\").str.replace(\"'\",\"\")\n",
    "df[\"Demographic\"] =df[\"Demographic\"].str.replace(\"[\",\"\").str.replace(\"]\",\"\").str.replace(\"'\",\"\")"
   ]
  },
  {
   "cell_type": "code",
   "execution_count": 5,
   "id": "0901f241",
   "metadata": {
    "scrolled": true
   },
   "outputs": [
    {
     "data": {
      "text/html": [
       "<div>\n",
       "<style scoped>\n",
       "    .dataframe tbody tr th:only-of-type {\n",
       "        vertical-align: middle;\n",
       "    }\n",
       "\n",
       "    .dataframe tbody tr th {\n",
       "        vertical-align: top;\n",
       "    }\n",
       "\n",
       "    .dataframe thead th {\n",
       "        text-align: right;\n",
       "    }\n",
       "</style>\n",
       "<table border=\"1\" class=\"dataframe\">\n",
       "  <thead>\n",
       "    <tr style=\"text-align: right;\">\n",
       "      <th></th>\n",
       "      <th>Unnamed: 0</th>\n",
       "      <th>Title</th>\n",
       "      <th>Users</th>\n",
       "      <th>Rating</th>\n",
       "      <th>Released</th>\n",
       "      <th>Source</th>\n",
       "      <th>Studio</th>\n",
       "      <th>Demographic</th>\n",
       "    </tr>\n",
       "  </thead>\n",
       "  <tbody>\n",
       "    <tr>\n",
       "      <th>0</th>\n",
       "      <td>0</td>\n",
       "      <td>Shingeki no Kyojin</td>\n",
       "      <td>3.6M</td>\n",
       "      <td>8.53</td>\n",
       "      <td>TV, 2013</td>\n",
       "      <td>Manga</td>\n",
       "      <td>Wit Studio</td>\n",
       "      <td>Shounen</td>\n",
       "    </tr>\n",
       "    <tr>\n",
       "      <th>1</th>\n",
       "      <td>1</td>\n",
       "      <td>Fullmetal Alchemist: Brotherhood</td>\n",
       "      <td>3.1M</td>\n",
       "      <td>9.11</td>\n",
       "      <td>TV, 2009</td>\n",
       "      <td>Manga</td>\n",
       "      <td>Bones</td>\n",
       "      <td>Shounen</td>\n",
       "    </tr>\n",
       "    <tr>\n",
       "      <th>2</th>\n",
       "      <td>2</td>\n",
       "      <td>One Punch Man</td>\n",
       "      <td>3.0M</td>\n",
       "      <td>8.50</td>\n",
       "      <td>TV, 2015</td>\n",
       "      <td>Web manga</td>\n",
       "      <td>Madhouse</td>\n",
       "      <td>Seinen</td>\n",
       "    </tr>\n",
       "    <tr>\n",
       "      <th>3</th>\n",
       "      <td>3</td>\n",
       "      <td>Sword Art Online</td>\n",
       "      <td>2.9M</td>\n",
       "      <td>7.20</td>\n",
       "      <td>TV, 2012</td>\n",
       "      <td>Light novel</td>\n",
       "      <td>A-1 Pictures</td>\n",
       "      <td></td>\n",
       "    </tr>\n",
       "    <tr>\n",
       "      <th>4</th>\n",
       "      <td>4</td>\n",
       "      <td>Boku no Hero Academia</td>\n",
       "      <td>2.8M</td>\n",
       "      <td>7.91</td>\n",
       "      <td>TV, 2016</td>\n",
       "      <td>Manga</td>\n",
       "      <td>Bones</td>\n",
       "      <td>Shounen</td>\n",
       "    </tr>\n",
       "  </tbody>\n",
       "</table>\n",
       "</div>"
      ],
      "text/plain": [
       "   Unnamed: 0                             Title Users  Rating  Released  \\\n",
       "0           0                Shingeki no Kyojin  3.6M    8.53  TV, 2013   \n",
       "1           1  Fullmetal Alchemist: Brotherhood  3.1M    9.11  TV, 2009   \n",
       "2           2                     One Punch Man  3.0M    8.50  TV, 2015   \n",
       "3           3                  Sword Art Online  2.9M    7.20  TV, 2012   \n",
       "4           4             Boku no Hero Academia  2.8M    7.91  TV, 2016   \n",
       "\n",
       "        Source        Studio Demographic  \n",
       "0        Manga    Wit Studio     Shounen  \n",
       "1        Manga         Bones     Shounen  \n",
       "2    Web manga      Madhouse      Seinen  \n",
       "3  Light novel  A-1 Pictures              \n",
       "4        Manga         Bones     Shounen  "
      ]
     },
     "execution_count": 5,
     "metadata": {},
     "output_type": "execute_result"
    }
   ],
   "source": [
    "df.head()"
   ]
  },
  {
   "cell_type": "markdown",
   "id": "cc99fea3",
   "metadata": {},
   "source": [
    "# checking null values"
   ]
  },
  {
   "cell_type": "code",
   "execution_count": 6,
   "id": "43fa9547",
   "metadata": {},
   "outputs": [
    {
     "data": {
      "text/plain": [
       "False    635\n",
       "Name: Users, dtype: int64"
      ]
     },
     "execution_count": 6,
     "metadata": {},
     "output_type": "execute_result"
    }
   ],
   "source": [
    "df['Users'].isnull().value_counts()"
   ]
  },
  {
   "cell_type": "code",
   "execution_count": 7,
   "id": "00b3cd15",
   "metadata": {},
   "outputs": [
    {
     "data": {
      "text/plain": [
       "False    635\n",
       "Name: Title, dtype: int64"
      ]
     },
     "execution_count": 7,
     "metadata": {},
     "output_type": "execute_result"
    }
   ],
   "source": [
    "df['Title'].isnull().value_counts()"
   ]
  },
  {
   "cell_type": "code",
   "execution_count": 8,
   "id": "4f58bc4e",
   "metadata": {},
   "outputs": [
    {
     "data": {
      "text/plain": [
       "False    626\n",
       "True       9\n",
       "Name: Rating, dtype: int64"
      ]
     },
     "execution_count": 8,
     "metadata": {},
     "output_type": "execute_result"
    }
   ],
   "source": [
    "df['Rating'].isnull().value_counts()"
   ]
  },
  {
   "cell_type": "code",
   "execution_count": 9,
   "id": "40ad130d",
   "metadata": {},
   "outputs": [
    {
     "data": {
      "text/plain": [
       "False    635\n",
       "Name: Released, dtype: int64"
      ]
     },
     "execution_count": 9,
     "metadata": {},
     "output_type": "execute_result"
    }
   ],
   "source": [
    "df['Released'].isnull().value_counts()"
   ]
  },
  {
   "cell_type": "code",
   "execution_count": 10,
   "id": "f4aaf60c",
   "metadata": {},
   "outputs": [
    {
     "data": {
      "text/plain": [
       "False    635\n",
       "Name: Studio, dtype: int64"
      ]
     },
     "execution_count": 10,
     "metadata": {},
     "output_type": "execute_result"
    }
   ],
   "source": [
    "df['Studio'].isnull().value_counts()"
   ]
  },
  {
   "cell_type": "code",
   "execution_count": 11,
   "id": "d5e59a80",
   "metadata": {},
   "outputs": [
    {
     "data": {
      "text/plain": [
       "False    635\n",
       "Name: Source, dtype: int64"
      ]
     },
     "execution_count": 11,
     "metadata": {},
     "output_type": "execute_result"
    }
   ],
   "source": [
    "df['Source'].isnull().value_counts()"
   ]
  },
  {
   "cell_type": "markdown",
   "id": "8bd7ae7c",
   "metadata": {},
   "source": [
    "# checking unique values"
   ]
  },
  {
   "cell_type": "code",
   "execution_count": 12,
   "id": "0841c5dc",
   "metadata": {},
   "outputs": [
    {
     "data": {
      "text/plain": [
       "array(['Manga', 'Web manga', 'Light novel', 'Original', 'Visual novel',\n",
       "       'Game', 'Mixed media', 'Novel', 'Card game', 'Other'], dtype=object)"
      ]
     },
     "execution_count": 12,
     "metadata": {},
     "output_type": "execute_result"
    }
   ],
   "source": [
    "df['Source'].unique()"
   ]
  },
  {
   "cell_type": "code",
   "execution_count": 13,
   "id": "c4cc5425",
   "metadata": {},
   "outputs": [
    {
     "data": {
      "text/plain": [
       "array([8.53, 9.11, 8.5 , 7.2 , 7.91, 8.52, 7.98, 7.79, 9.04, 8.13, 8.25,\n",
       "       8.66, 8.62, 8.7 , 8.68, 7.96, 8.06, 9.06, 7.47, 7.68, 7.43, 8.49,\n",
       "       6.7 , 8.09, 7.5 , 7.9 , 8.81, 8.34, 8.75, 7.03, 8.91, 7.58, 8.04,\n",
       "       7.92, 7.49, 7.84, 7.22, 8.63, 8.14, 7.99, 7.55, 7.08, 8.28, 8.12,\n",
       "       8.16, 8.11, 8.73, 7.82, 7.71, 7.16, 7.42, 8.51, 8.82, 7.67, 8.1 ,\n",
       "       8.24, 7.73, 8.67, 6.38, 7.93, 7.6 , 8.56, 8.77, 7.4 , 8.44, 8.19,\n",
       "       8.94, 8.02, 7.56, 7.76, 8.03, 7.66, 8.58, 7.28, 8.07, 7.45, 7.1 ,\n",
       "       7.48, 8.37, 7.97, 8.39, 7.07, 7.3 , 5.72, 8.32, 8.22, 6.42, 7.24,\n",
       "       7.36, 8.2 , 7.26, 7.69, 7.23, 7.86, 7.62, 7.44, 7.38, 7.65, 7.8 ,\n",
       "       6.99, 7.14, 6.45, 7.83, 6.56, 7.74, 6.72, 8.27, 8.45, 6.83, 6.69,\n",
       "       7.05, 6.64, 7.35, 6.47, 7.37, 8.55, 7.  , 9.07, 8.38, 7.46, 8.41,\n",
       "       7.41, 7.15, 6.61, 6.44, 7.21, 7.72, 6.86, 6.75, 8.18, 7.61, 8.42,\n",
       "       8.29, 7.25, 7.57, 7.85, 7.18, 7.54, 7.33, 7.06, 8.4 , 7.01, 8.71,\n",
       "       7.63, 6.58, 7.77, 8.43, 6.54, 6.82, 6.8 , 6.89, 6.32, 7.75, 7.87,\n",
       "       6.53, 6.3 , 6.81, 7.81, 7.17, 7.19, 7.94, 7.29, 7.95, 6.73, 6.36,\n",
       "       7.39, 9.03, 6.92, 6.94, 5.45, 6.79, 8.99, 7.52, 7.59, 7.12, 6.33,\n",
       "       6.13, 5.75,  nan, 6.88, 7.04, 6.5 , 6.84, 5.97, 6.98, 6.85, 6.07,\n",
       "       7.51, 6.27, 6.55, 8.05, 5.36, 7.64, 6.26, 7.78, 7.09, 6.29, 7.53,\n",
       "       6.23, 6.39, 6.65, 5.88, 6.93, 8.15, 6.87, 7.7 , 8.88, 6.57, 6.67,\n",
       "       7.27, 6.77, 6.59, 8.59, 6.21, 6.96, 6.19, 7.13, 5.54, 6.05, 5.79,\n",
       "       6.28, 7.34, 7.31, 6.14, 6.9 , 6.1 , 8.08, 7.89, 5.99, 6.08, 6.91,\n",
       "       5.38, 8.23, 6.11, 6.4 , 6.6 , 6.74, 4.6 , 6.71, 8.33, 7.02, 6.68,\n",
       "       5.63, 6.06, 5.48, 5.84, 5.27, 6.49, 6.41, 5.91, 6.66, 6.09, 5.33,\n",
       "       5.67, 6.24, 6.52])"
      ]
     },
     "execution_count": 13,
     "metadata": {},
     "output_type": "execute_result"
    }
   ],
   "source": [
    "df.Rating.unique()"
   ]
  },
  {
   "cell_type": "code",
   "execution_count": 14,
   "id": "906e35ed",
   "metadata": {},
   "outputs": [
    {
     "data": {
      "text/plain": [
       "array(['Wit Studio', 'Bones', 'Madhouse', 'A-1 Pictures', 'ufotable',\n",
       "       'Pierrot', 'MAPPA', 'Sunrise', 'Toei Animation', 'White Fox',\n",
       "       'asread.', 'Lerche', 'sGainaxTatsunoko Production',\n",
       "       'sA-1 PicturesSatelight', 'Trigger', 'J.C.Staff', 'Production I.G',\n",
       "       'sA-1 PicturesCloverWorksTrigger', 'David Production', 'Gainax',\n",
       "       'Kinema Citrus', 'Arms', '\"Brains Base\"', '8bit',\n",
       "       'sCloverWorksWit Studio', 'Manglobe', 'sMAPPATezuka Productions',\n",
       "       'Kyoto Animation', 'LIDENFILMS', 'sPierrotPierrot Plus',\n",
       "       'Satelight', 'sA-1 PicturesBridge', 'Studio Deen',\n",
       "       'sNexusSILVER LINK.', 'sKinema CitrusOrange', 'TNK',\n",
       "       'Telecom Animation Film', 'Nut', 'Seven Arcs Pictures', 'GoHands',\n",
       "       'SILVER LINK.', 'Gonzo', 'Shuka', 'sDR MovieKinema Citrus',\n",
       "       'TMS Entertainment', 'Production IMS', 'sasread.White Fox',\n",
       "       'Tatsunoko Production', 'sConnectSILVER LINK.', 'Passione', 'OLM',\n",
       "       'Studio 3Hz', 'Bandai Namco Pictures', 'Pierrot Plus',\n",
       "       'Polygon Pictures', 'Diomedéa', 'Nippon Animation', 'Artland',\n",
       "       'Hoods Drifters Studio', 'Nexus', 'sA-1 PicturesTROYCA',\n",
       "       'sGallopStudio Deen', 'TROYCA', 'sA-1 PicturesBridgeCloverWorks',\n",
       "       'sMadhouseMAPPA', 'Lay-duce', 'Pine Jam',\n",
       "       'sSILVER LINK.Studio Palette', 'Orange', 'Seven Arcs', 'Geek Toys',\n",
       "       'Millepensee', 'Gallop', 'sLIDENFILMSSANZIGEN', 'Xebec',\n",
       "       'Geno Studio', 'C2C', 'Okuruto Noboru', 'sOrdetSANZIGEN',\n",
       "       'sGallopStudio Comet', 'Ajia-Do', 'sGEMBAMillepensee',\n",
       "       'sasread.studio MOTHER', 'Bee Train', 'Hoods Entertainment',\n",
       "       'A.C.G.T.', 'Encourage Films', 'NAZ', 'sOrangeStudio 3Hz', 'Zexcs',\n",
       "       'sMadhouseStudio Gokumi', 'Actas', 'AIC Spirits', 'Nomad',\n",
       "       'Graphinica', '\"sBrains BasePlatinum Vision\"', 'Maho Film',\n",
       "       '\"Childrens Playground Entertainment\"', 'CloverWorks', 'AIC ASTA',\n",
       "       'sHORNETSStudio Kai', 'Platinum Vision', 'EMT Squared',\n",
       "       'P.A. Works', 'sAIC Spiritsasread.', 'Doga Kobo',\n",
       "       'sBladeSILVER LINK.', 'EKACHI EPILKA', 'sNAZOZ', 'ENGI', 'Shaft',\n",
       "       'SynergySP', 'sMAPPAStudio VOLN', 'sShin-Ei AnimationSynergySP',\n",
       "       'sActasStudio 3Hz', 'Namu Animation', 'Pastel', 'Project No.9',\n",
       "       'Zero-G', 'Revoroot', 'Bridge', 'Bibury Animation Studios',\n",
       "       'sMadhouseTatsunoko Production', 'sJ.C.StaffSANZIGEN', 'SANZIGEN',\n",
       "       'XEBEC M2', 'Tezuka Productions', 'sLapin TrackMAPPA',\n",
       "       'Studio VOLN', 'sfeel.Gainax', 'Signal.MD',\n",
       "       'sGraphinicaTelecom Animation Film', 'sLIDENFILMSOrdet',\n",
       "       'sEncourage FilmsSatelight', 'Studio Gokumi', 'sixtlLIDENFILMS',\n",
       "       'sCreators in PackNamu Animation', 's8bitSatelight', 'feel.',\n",
       "       'Group TAC', 'Studio A-CAT', 'Tokyo Movie Shinsha',\n",
       "       'sixtlSatelight', 'sProduction I.GXebec', 'Bakken Record', 'AXsiZ',\n",
       "       'Unknown', 'sAIC SpiritsBeSTACK', 'sLIDENFILMSTYO Animations',\n",
       "       'sHoods EntertainmentteamKG', 'sPierrotStudio Signpost',\n",
       "       'sPierrotStudio Deen'], dtype=object)"
      ]
     },
     "execution_count": 14,
     "metadata": {},
     "output_type": "execute_result"
    }
   ],
   "source": [
    "df[\"Studio\"].unique()"
   ]
  },
  {
   "cell_type": "code",
   "execution_count": 15,
   "id": "fd3204d6",
   "metadata": {},
   "outputs": [
    {
     "data": {
      "text/plain": [
       "array(['TV, 2013', 'TV, 2009', 'TV, 2015', 'TV, 2012', 'TV, 2016',\n",
       "       'TV, 2019', 'TV, 2002', 'TV, 2014', 'TV, 2011', 'TV, 2017',\n",
       "       'TV, 2007', 'TV, 2020', 'TV, 2018', 'TV, 2006', 'TV, 1999',\n",
       "       'TV, 2004', 'TV, 1998', 'TV, 1995', 'TV, 2008', 'TV, 2010',\n",
       "       'TV, 2003', 'TV, 2022', 'TV, 1989', 'TV, 2021', 'TV, 2000',\n",
       "       'TV, 2001', 'TV, 1992', 'TV, 1996', 'TV, 1997', 'TV, 2005',\n",
       "       'TV, 2023', 'TV, -', 'TV, 1984', 'TV, 1979', 'TV, 1982',\n",
       "       'TV, 1971', 'TV, 1981'], dtype=object)"
      ]
     },
     "execution_count": 15,
     "metadata": {},
     "output_type": "execute_result"
    }
   ],
   "source": [
    "df['Released'].unique()"
   ]
  },
  {
   "cell_type": "code",
   "execution_count": 16,
   "id": "0f545364",
   "metadata": {},
   "outputs": [],
   "source": [
    "df['Source']=df['Source'].apply(lambda x : np.NaN if x==\"Other\" else x)\n"
   ]
  },
  {
   "cell_type": "code",
   "execution_count": 17,
   "id": "f43daf28",
   "metadata": {},
   "outputs": [],
   "source": [
    "df['Demographic']=df['Demographic'].apply(lambda x : \"not_given\" if x=='' else x)\n"
   ]
  },
  {
   "cell_type": "code",
   "execution_count": 18,
   "id": "cc908bd4",
   "metadata": {},
   "outputs": [
    {
     "data": {
      "text/plain": [
       "array(['Shounen', 'Seinen', 'not_given', 'Shoujo', 'Kids', 'Josei'],\n",
       "      dtype=object)"
      ]
     },
     "execution_count": 18,
     "metadata": {},
     "output_type": "execute_result"
    }
   ],
   "source": [
    "df['Demographic'].unique()"
   ]
  },
  {
   "cell_type": "code",
   "execution_count": 19,
   "id": "17d093d5",
   "metadata": {},
   "outputs": [
    {
     "data": {
      "text/html": [
       "<div>\n",
       "<style scoped>\n",
       "    .dataframe tbody tr th:only-of-type {\n",
       "        vertical-align: middle;\n",
       "    }\n",
       "\n",
       "    .dataframe tbody tr th {\n",
       "        vertical-align: top;\n",
       "    }\n",
       "\n",
       "    .dataframe thead th {\n",
       "        text-align: right;\n",
       "    }\n",
       "</style>\n",
       "<table border=\"1\" class=\"dataframe\">\n",
       "  <thead>\n",
       "    <tr style=\"text-align: right;\">\n",
       "      <th></th>\n",
       "      <th>Unnamed: 0</th>\n",
       "      <th>Title</th>\n",
       "      <th>Users</th>\n",
       "      <th>Rating</th>\n",
       "      <th>Released</th>\n",
       "      <th>Source</th>\n",
       "      <th>Studio</th>\n",
       "      <th>Demographic</th>\n",
       "    </tr>\n",
       "  </thead>\n",
       "  <tbody>\n",
       "    <tr>\n",
       "      <th>0</th>\n",
       "      <td>0</td>\n",
       "      <td>Shingeki no Kyojin</td>\n",
       "      <td>3.6M</td>\n",
       "      <td>8.53</td>\n",
       "      <td>TV, 2013</td>\n",
       "      <td>Manga</td>\n",
       "      <td>Wit Studio</td>\n",
       "      <td>Shounen</td>\n",
       "    </tr>\n",
       "    <tr>\n",
       "      <th>1</th>\n",
       "      <td>1</td>\n",
       "      <td>Fullmetal Alchemist: Brotherhood</td>\n",
       "      <td>3.1M</td>\n",
       "      <td>9.11</td>\n",
       "      <td>TV, 2009</td>\n",
       "      <td>Manga</td>\n",
       "      <td>Bones</td>\n",
       "      <td>Shounen</td>\n",
       "    </tr>\n",
       "    <tr>\n",
       "      <th>2</th>\n",
       "      <td>2</td>\n",
       "      <td>One Punch Man</td>\n",
       "      <td>3.0M</td>\n",
       "      <td>8.50</td>\n",
       "      <td>TV, 2015</td>\n",
       "      <td>Web manga</td>\n",
       "      <td>Madhouse</td>\n",
       "      <td>Seinen</td>\n",
       "    </tr>\n",
       "    <tr>\n",
       "      <th>3</th>\n",
       "      <td>3</td>\n",
       "      <td>Sword Art Online</td>\n",
       "      <td>2.9M</td>\n",
       "      <td>7.20</td>\n",
       "      <td>TV, 2012</td>\n",
       "      <td>Light novel</td>\n",
       "      <td>A-1 Pictures</td>\n",
       "      <td>not_given</td>\n",
       "    </tr>\n",
       "    <tr>\n",
       "      <th>4</th>\n",
       "      <td>4</td>\n",
       "      <td>Boku no Hero Academia</td>\n",
       "      <td>2.8M</td>\n",
       "      <td>7.91</td>\n",
       "      <td>TV, 2016</td>\n",
       "      <td>Manga</td>\n",
       "      <td>Bones</td>\n",
       "      <td>Shounen</td>\n",
       "    </tr>\n",
       "  </tbody>\n",
       "</table>\n",
       "</div>"
      ],
      "text/plain": [
       "   Unnamed: 0                             Title Users  Rating  Released  \\\n",
       "0           0                Shingeki no Kyojin  3.6M    8.53  TV, 2013   \n",
       "1           1  Fullmetal Alchemist: Brotherhood  3.1M    9.11  TV, 2009   \n",
       "2           2                     One Punch Man  3.0M    8.50  TV, 2015   \n",
       "3           3                  Sword Art Online  2.9M    7.20  TV, 2012   \n",
       "4           4             Boku no Hero Academia  2.8M    7.91  TV, 2016   \n",
       "\n",
       "        Source        Studio Demographic  \n",
       "0        Manga    Wit Studio     Shounen  \n",
       "1        Manga         Bones     Shounen  \n",
       "2    Web manga      Madhouse      Seinen  \n",
       "3  Light novel  A-1 Pictures   not_given  \n",
       "4        Manga         Bones     Shounen  "
      ]
     },
     "execution_count": 19,
     "metadata": {},
     "output_type": "execute_result"
    }
   ],
   "source": [
    "df.head()"
   ]
  },
  {
   "cell_type": "code",
   "execution_count": 20,
   "id": "b002cd1e",
   "metadata": {},
   "outputs": [
    {
     "data": {
      "text/plain": [
       "False    635\n",
       "Name: Released, dtype: int64"
      ]
     },
     "execution_count": 20,
     "metadata": {},
     "output_type": "execute_result"
    }
   ],
   "source": [
    "df.Released.isnull().value_counts()"
   ]
  },
  {
   "cell_type": "code",
   "execution_count": 21,
   "id": "e2d2ca60",
   "metadata": {},
   "outputs": [
    {
     "data": {
      "text/plain": [
       "'TV,'"
      ]
     },
     "execution_count": 21,
     "metadata": {},
     "output_type": "execute_result"
    }
   ],
   "source": [
    "a=\"TV, 2013\"\n",
    "a[4:]\n",
    "a[0:3]"
   ]
  },
  {
   "cell_type": "code",
   "execution_count": 22,
   "id": "766aeb9d",
   "metadata": {},
   "outputs": [],
   "source": [
    "df.Released=df.Released.str.replace('TV,','')"
   ]
  },
  {
   "cell_type": "code",
   "execution_count": 23,
   "id": "bcf8f162",
   "metadata": {
    "scrolled": true
   },
   "outputs": [],
   "source": [
    "df[\"Studio\"]=df['Studio'].apply(lambda x: x[0].upper() + x[1:].lower() if x[1:]!=x[1:].lower() else x)"
   ]
  },
  {
   "cell_type": "code",
   "execution_count": 24,
   "id": "b8f26a9e",
   "metadata": {},
   "outputs": [
    {
     "data": {
      "text/plain": [
       "array(['Wit studio', 'Bones', 'Madhouse', 'A-1 pictures', 'ufotable',\n",
       "       'Pierrot', 'Mappa', 'Sunrise', 'Toei animation', 'White fox',\n",
       "       'asread.', 'Lerche', 'Sgainaxtatsunoko production',\n",
       "       'Sa-1 picturessatelight', 'Trigger', 'J.c.staff', 'Production i.g',\n",
       "       'Sa-1 picturescloverworkstrigger', 'David production', 'Gainax',\n",
       "       'Kinema citrus', 'Arms', '\"brains base\"', '8bit',\n",
       "       'Scloverworkswit studio', 'Manglobe', 'Smappatezuka productions',\n",
       "       'Kyoto animation', 'Lidenfilms', 'Spierrotpierrot plus',\n",
       "       'Satelight', 'Sa-1 picturesbridge', 'Studio deen',\n",
       "       'Snexussilver link.', 'Skinema citrusorange', 'Tnk',\n",
       "       'Telecom animation film', 'Nut', 'Seven arcs pictures', 'Gohands',\n",
       "       'Silver link.', 'Gonzo', 'Shuka', 'Sdr moviekinema citrus',\n",
       "       'Tms entertainment', 'Production ims', 'Sasread.white fox',\n",
       "       'Tatsunoko production', 'Sconnectsilver link.', 'Passione', 'Olm',\n",
       "       'Studio 3hz', 'Bandai namco pictures', 'Pierrot plus',\n",
       "       'Polygon pictures', 'Diomedéa', 'Nippon animation', 'Artland',\n",
       "       'Hoods drifters studio', 'Nexus', 'Sa-1 picturestroyca',\n",
       "       'Sgallopstudio deen', 'Troyca', 'Sa-1 picturesbridgecloverworks',\n",
       "       'Smadhousemappa', 'Lay-duce', 'Pine jam',\n",
       "       'Ssilver link.studio palette', 'Orange', 'Seven arcs', 'Geek toys',\n",
       "       'Millepensee', 'Gallop', 'Slidenfilmssanzigen', 'Xebec',\n",
       "       'Geno studio', 'C2c', 'Okuruto noboru', 'Sordetsanzigen',\n",
       "       'Sgallopstudio comet', 'Ajia-do', 'Sgembamillepensee',\n",
       "       'Sasread.studio mother', 'Bee train', 'Hoods entertainment',\n",
       "       'A.c.g.t.', 'Encourage films', 'Naz', 'Sorangestudio 3hz', 'Zexcs',\n",
       "       'Smadhousestudio gokumi', 'Actas', 'Aic spirits', 'Nomad',\n",
       "       'Graphinica', '\"sbrains baseplatinum vision\"', 'Maho film',\n",
       "       '\"childrens playground entertainment\"', 'Cloverworks', 'Aic asta',\n",
       "       'Shornetsstudio kai', 'Platinum vision', 'Emt squared',\n",
       "       'P.a. works', 'Saic spiritsasread.', 'Doga kobo',\n",
       "       'Sbladesilver link.', 'Ekachi epilka', 'Snazoz', 'Engi', 'Shaft',\n",
       "       'Synergysp', 'Smappastudio voln', 'Sshin-ei animationsynergysp',\n",
       "       'Sactasstudio 3hz', 'Namu animation', 'Pastel', 'Project no.9',\n",
       "       'Zero-g', 'Revoroot', 'Bridge', 'Bibury animation studios',\n",
       "       'Smadhousetatsunoko production', 'Sj.c.staffsanzigen', 'Sanzigen',\n",
       "       'Xebec m2', 'Tezuka productions', 'Slapin trackmappa',\n",
       "       'Studio voln', 'Sfeel.gainax', 'Signal.md',\n",
       "       'Sgraphinicatelecom animation film', 'Slidenfilmsordet',\n",
       "       'Sencourage filmssatelight', 'Studio gokumi', 'Sixtllidenfilms',\n",
       "       'Screators in packnamu animation', 'S8bitsatelight', 'feel.',\n",
       "       'Group tac', 'Studio a-cat', 'Tokyo movie shinsha',\n",
       "       'Sixtlsatelight', 'Sproduction i.gxebec', 'Bakken record', 'Axsiz',\n",
       "       'Unknown', 'Saic spiritsbestack', 'Slidenfilmstyo animations',\n",
       "       'Shoods entertainmentteamkg', 'Spierrotstudio signpost',\n",
       "       'Spierrotstudio deen'], dtype=object)"
      ]
     },
     "execution_count": 24,
     "metadata": {},
     "output_type": "execute_result"
    }
   ],
   "source": [
    "df.Studio.unique()"
   ]
  },
  {
   "cell_type": "code",
   "execution_count": 25,
   "id": "f18b8cd2",
   "metadata": {},
   "outputs": [
    {
     "data": {
      "text/plain": [
       "array([' 2013', ' 2009', ' 2015', ' 2012', ' 2016', ' 2019', ' 2002',\n",
       "       ' 2014', ' 2011', ' 2017', ' 2007', ' 2020', ' 2018', ' 2006',\n",
       "       ' 1999', ' 2004', ' 1998', ' 1995', ' 2008', ' 2010', ' 2003',\n",
       "       ' 2022', ' 1989', ' 2021', ' 2000', ' 2001', ' 1992', ' 1996',\n",
       "       ' 1997', ' 2005', ' 2023', ' -', ' 1984', ' 1979', ' 1982',\n",
       "       ' 1971', ' 1981'], dtype=object)"
      ]
     },
     "execution_count": 25,
     "metadata": {},
     "output_type": "execute_result"
    }
   ],
   "source": [
    "df.Released.unique()"
   ]
  },
  {
   "cell_type": "code",
   "execution_count": 26,
   "id": "e06f313d",
   "metadata": {},
   "outputs": [
    {
     "data": {
      "text/plain": [
       "Unnamed: 0      0\n",
       "Title           0\n",
       "Users           0\n",
       "Rating          9\n",
       "Released        0\n",
       "Source         10\n",
       "Studio          0\n",
       "Demographic     0\n",
       "dtype: int64"
      ]
     },
     "execution_count": 26,
     "metadata": {},
     "output_type": "execute_result"
    }
   ],
   "source": [
    "df.isnull().sum()"
   ]
  },
  {
   "cell_type": "code",
   "execution_count": 27,
   "id": "4cab28e7",
   "metadata": {},
   "outputs": [
    {
     "data": {
      "text/plain": [
       "array([' 2013', ' 2009', ' 2015', ' 2012', ' 2016', ' 2019', ' 2002',\n",
       "       ' 2014', ' 2011', ' 2017', ' 2007', ' 2020', ' 2018', ' 2006',\n",
       "       ' 1999', ' 2004', ' 1998', ' 1995', ' 2008', ' 2010', ' 2003',\n",
       "       ' 2022', ' 1989', ' 2021', ' 2000', ' 2001', ' 1992', ' 1996',\n",
       "       ' 1997', ' 2005', ' 2023', ' -', ' 1984', ' 1979', ' 1982',\n",
       "       ' 1971', ' 1981'], dtype=object)"
      ]
     },
     "execution_count": 27,
     "metadata": {},
     "output_type": "execute_result"
    }
   ],
   "source": [
    "df['Released'].unique()"
   ]
  },
  {
   "cell_type": "code",
   "execution_count": 28,
   "id": "1bce839e",
   "metadata": {},
   "outputs": [
    {
     "name": "stdout",
     "output_type": "stream",
     "text": [
      "<class 'pandas.core.frame.DataFrame'>\n",
      "RangeIndex: 635 entries, 0 to 634\n",
      "Data columns (total 8 columns):\n",
      " #   Column       Non-Null Count  Dtype  \n",
      "---  ------       --------------  -----  \n",
      " 0   Unnamed: 0   635 non-null    int64  \n",
      " 1   Title        635 non-null    object \n",
      " 2   Users        635 non-null    object \n",
      " 3   Rating       626 non-null    float64\n",
      " 4   Released     635 non-null    object \n",
      " 5   Source       625 non-null    object \n",
      " 6   Studio       635 non-null    object \n",
      " 7   Demographic  635 non-null    object \n",
      "dtypes: float64(1), int64(1), object(6)\n",
      "memory usage: 39.8+ KB\n"
     ]
    }
   ],
   "source": [
    "df.info()"
   ]
  },
  {
   "cell_type": "code",
   "execution_count": 29,
   "id": "745b3fdb",
   "metadata": {},
   "outputs": [],
   "source": [
    "df['Released']=df['Released'].apply(lambda x : 0 if x==\" -\" else x)"
   ]
  },
  {
   "cell_type": "code",
   "execution_count": 30,
   "id": "a08df362",
   "metadata": {},
   "outputs": [
    {
     "data": {
      "text/plain": [
       "array([' 2013', ' 2009', ' 2015', ' 2012', ' 2016', ' 2019', ' 2002',\n",
       "       ' 2014', ' 2011', ' 2017', ' 2007', ' 2020', ' 2018', ' 2006',\n",
       "       ' 1999', ' 2004', ' 1998', ' 1995', ' 2008', ' 2010', ' 2003',\n",
       "       ' 2022', ' 1989', ' 2021', ' 2000', ' 2001', ' 1992', ' 1996',\n",
       "       ' 1997', ' 2005', ' 2023', 0, ' 1984', ' 1979', ' 1982', ' 1971',\n",
       "       ' 1981'], dtype=object)"
      ]
     },
     "execution_count": 30,
     "metadata": {},
     "output_type": "execute_result"
    }
   ],
   "source": [
    "df['Released'].unique()"
   ]
  },
  {
   "cell_type": "code",
   "execution_count": 31,
   "id": "34906f1e",
   "metadata": {},
   "outputs": [],
   "source": [
    "df['Released']=df['Released'].astype(int)"
   ]
  },
  {
   "cell_type": "code",
   "execution_count": 32,
   "id": "e378616b",
   "metadata": {},
   "outputs": [
    {
     "data": {
      "text/plain": [
       "array([2013, 2009, 2015, 2012, 2016, 2019, 2002, 2014, 2011, 2017, 2007,\n",
       "       2020, 2018, 2006, 1999, 2004, 1998, 1995, 2008, 2010, 2003, 2022,\n",
       "       1989, 2021, 2000, 2001, 1992, 1996, 1997, 2005, 2023,    0, 1984,\n",
       "       1979, 1982, 1971, 1981])"
      ]
     },
     "execution_count": 32,
     "metadata": {},
     "output_type": "execute_result"
    }
   ],
   "source": [
    "df['Released'].unique()"
   ]
  },
  {
   "cell_type": "code",
   "execution_count": 33,
   "id": "95ecc32e",
   "metadata": {},
   "outputs": [],
   "source": [
    "df['New']=df['Released'].apply(lambda x : \"New_webseries\" if x>2011 else('vintage' if x>1991 else 'Old_webseries' if x>1970 else 'Not_found'))"
   ]
  },
  {
   "cell_type": "code",
   "execution_count": 34,
   "id": "5d51ea3c",
   "metadata": {},
   "outputs": [
    {
     "data": {
      "text/plain": [
       "array(['Shounen', 'Seinen', 'not_given', 'Shoujo', 'Kids', 'Josei'],\n",
       "      dtype=object)"
      ]
     },
     "execution_count": 34,
     "metadata": {},
     "output_type": "execute_result"
    }
   ],
   "source": [
    "df['Demographic'].unique()"
   ]
  },
  {
   "cell_type": "code",
   "execution_count": 35,
   "id": "a9857b4b",
   "metadata": {},
   "outputs": [
    {
     "data": {
      "text/html": [
       "<div>\n",
       "<style scoped>\n",
       "    .dataframe tbody tr th:only-of-type {\n",
       "        vertical-align: middle;\n",
       "    }\n",
       "\n",
       "    .dataframe tbody tr th {\n",
       "        vertical-align: top;\n",
       "    }\n",
       "\n",
       "    .dataframe thead th {\n",
       "        text-align: right;\n",
       "    }\n",
       "</style>\n",
       "<table border=\"1\" class=\"dataframe\">\n",
       "  <thead>\n",
       "    <tr style=\"text-align: right;\">\n",
       "      <th></th>\n",
       "      <th>Unnamed: 0</th>\n",
       "      <th>Rating</th>\n",
       "      <th>Released</th>\n",
       "    </tr>\n",
       "  </thead>\n",
       "  <tbody>\n",
       "    <tr>\n",
       "      <th>count</th>\n",
       "      <td>635.000000</td>\n",
       "      <td>626.000000</td>\n",
       "      <td>635.000000</td>\n",
       "    </tr>\n",
       "    <tr>\n",
       "      <th>mean</th>\n",
       "      <td>317.000000</td>\n",
       "      <td>7.360958</td>\n",
       "      <td>2003.713386</td>\n",
       "    </tr>\n",
       "    <tr>\n",
       "      <th>std</th>\n",
       "      <td>183.452991</td>\n",
       "      <td>0.724834</td>\n",
       "      <td>138.332897</td>\n",
       "    </tr>\n",
       "    <tr>\n",
       "      <th>min</th>\n",
       "      <td>0.000000</td>\n",
       "      <td>4.600000</td>\n",
       "      <td>0.000000</td>\n",
       "    </tr>\n",
       "    <tr>\n",
       "      <th>25%</th>\n",
       "      <td>158.500000</td>\n",
       "      <td>6.890000</td>\n",
       "      <td>2010.000000</td>\n",
       "    </tr>\n",
       "    <tr>\n",
       "      <th>50%</th>\n",
       "      <td>317.000000</td>\n",
       "      <td>7.390000</td>\n",
       "      <td>2014.000000</td>\n",
       "    </tr>\n",
       "    <tr>\n",
       "      <th>75%</th>\n",
       "      <td>475.500000</td>\n",
       "      <td>7.800000</td>\n",
       "      <td>2018.000000</td>\n",
       "    </tr>\n",
       "    <tr>\n",
       "      <th>max</th>\n",
       "      <td>634.000000</td>\n",
       "      <td>9.110000</td>\n",
       "      <td>2023.000000</td>\n",
       "    </tr>\n",
       "  </tbody>\n",
       "</table>\n",
       "</div>"
      ],
      "text/plain": [
       "       Unnamed: 0      Rating     Released\n",
       "count  635.000000  626.000000   635.000000\n",
       "mean   317.000000    7.360958  2003.713386\n",
       "std    183.452991    0.724834   138.332897\n",
       "min      0.000000    4.600000     0.000000\n",
       "25%    158.500000    6.890000  2010.000000\n",
       "50%    317.000000    7.390000  2014.000000\n",
       "75%    475.500000    7.800000  2018.000000\n",
       "max    634.000000    9.110000  2023.000000"
      ]
     },
     "execution_count": 35,
     "metadata": {},
     "output_type": "execute_result"
    }
   ],
   "source": [
    "df.describe()"
   ]
  },
  {
   "cell_type": "code",
   "execution_count": 36,
   "id": "58e2a942",
   "metadata": {},
   "outputs": [
    {
     "data": {
      "text/plain": [
       "Unnamed: 0      0\n",
       "Title           0\n",
       "Users           0\n",
       "Rating          9\n",
       "Released        0\n",
       "Source         10\n",
       "Studio          0\n",
       "Demographic     0\n",
       "New             0\n",
       "dtype: int64"
      ]
     },
     "execution_count": 36,
     "metadata": {},
     "output_type": "execute_result"
    }
   ],
   "source": [
    "df.isnull().sum()"
   ]
  },
  {
   "cell_type": "code",
   "execution_count": 37,
   "id": "6502bb89",
   "metadata": {},
   "outputs": [
    {
     "data": {
      "text/plain": [
       "Unnamed: 0      0\n",
       "Title           0\n",
       "Users           0\n",
       "Rating          0\n",
       "Released        0\n",
       "Source         10\n",
       "Studio          0\n",
       "Demographic     0\n",
       "New             0\n",
       "dtype: int64"
      ]
     },
     "execution_count": 37,
     "metadata": {},
     "output_type": "execute_result"
    }
   ],
   "source": [
    "df.dropna(subset='Rating',inplace=True)\n",
    "df.isna().sum()"
   ]
  },
  {
   "cell_type": "code",
   "execution_count": 38,
   "id": "4814e1e5",
   "metadata": {},
   "outputs": [
    {
     "data": {
      "text/plain": [
       "Unnamed: 0     0\n",
       "Title          0\n",
       "Users          0\n",
       "Rating         0\n",
       "Released       0\n",
       "Source         0\n",
       "Studio         0\n",
       "Demographic    0\n",
       "New            0\n",
       "dtype: int64"
      ]
     },
     "execution_count": 38,
     "metadata": {},
     "output_type": "execute_result"
    }
   ],
   "source": [
    "df.dropna(subset='Source',inplace=True)\n",
    "df.isna().sum()"
   ]
  },
  {
   "cell_type": "code",
   "execution_count": 39,
   "id": "93a16659",
   "metadata": {},
   "outputs": [
    {
     "name": "stdout",
     "output_type": "stream",
     "text": [
      "<class 'pandas.core.frame.DataFrame'>\n",
      "Int64Index: 616 entries, 0 to 634\n",
      "Data columns (total 9 columns):\n",
      " #   Column       Non-Null Count  Dtype  \n",
      "---  ------       --------------  -----  \n",
      " 0   Unnamed: 0   616 non-null    int64  \n",
      " 1   Title        616 non-null    object \n",
      " 2   Users        616 non-null    object \n",
      " 3   Rating       616 non-null    float64\n",
      " 4   Released     616 non-null    int32  \n",
      " 5   Source       616 non-null    object \n",
      " 6   Studio       616 non-null    object \n",
      " 7   Demographic  616 non-null    object \n",
      " 8   New          616 non-null    object \n",
      "dtypes: float64(1), int32(1), int64(1), object(6)\n",
      "memory usage: 45.7+ KB\n"
     ]
    }
   ],
   "source": [
    "df.info()"
   ]
  },
  {
   "cell_type": "code",
   "execution_count": 40,
   "id": "c97033ad",
   "metadata": {},
   "outputs": [
    {
     "data": {
      "text/html": [
       "<div>\n",
       "<style scoped>\n",
       "    .dataframe tbody tr th:only-of-type {\n",
       "        vertical-align: middle;\n",
       "    }\n",
       "\n",
       "    .dataframe tbody tr th {\n",
       "        vertical-align: top;\n",
       "    }\n",
       "\n",
       "    .dataframe thead th {\n",
       "        text-align: right;\n",
       "    }\n",
       "</style>\n",
       "<table border=\"1\" class=\"dataframe\">\n",
       "  <thead>\n",
       "    <tr style=\"text-align: right;\">\n",
       "      <th></th>\n",
       "      <th>Unnamed: 0</th>\n",
       "      <th>Title</th>\n",
       "      <th>Users</th>\n",
       "      <th>Rating</th>\n",
       "      <th>Released</th>\n",
       "      <th>Source</th>\n",
       "      <th>Studio</th>\n",
       "      <th>Demographic</th>\n",
       "      <th>New</th>\n",
       "    </tr>\n",
       "  </thead>\n",
       "  <tbody>\n",
       "    <tr>\n",
       "      <th>0</th>\n",
       "      <td>0</td>\n",
       "      <td>Shingeki no Kyojin</td>\n",
       "      <td>3.6M</td>\n",
       "      <td>8.53</td>\n",
       "      <td>2013</td>\n",
       "      <td>Manga</td>\n",
       "      <td>Wit studio</td>\n",
       "      <td>Shounen</td>\n",
       "      <td>New_webseries</td>\n",
       "    </tr>\n",
       "    <tr>\n",
       "      <th>1</th>\n",
       "      <td>1</td>\n",
       "      <td>Fullmetal Alchemist: Brotherhood</td>\n",
       "      <td>3.1M</td>\n",
       "      <td>9.11</td>\n",
       "      <td>2009</td>\n",
       "      <td>Manga</td>\n",
       "      <td>Bones</td>\n",
       "      <td>Shounen</td>\n",
       "      <td>vintage</td>\n",
       "    </tr>\n",
       "    <tr>\n",
       "      <th>2</th>\n",
       "      <td>2</td>\n",
       "      <td>One Punch Man</td>\n",
       "      <td>3.0M</td>\n",
       "      <td>8.50</td>\n",
       "      <td>2015</td>\n",
       "      <td>Web manga</td>\n",
       "      <td>Madhouse</td>\n",
       "      <td>Seinen</td>\n",
       "      <td>New_webseries</td>\n",
       "    </tr>\n",
       "    <tr>\n",
       "      <th>3</th>\n",
       "      <td>3</td>\n",
       "      <td>Sword Art Online</td>\n",
       "      <td>2.9M</td>\n",
       "      <td>7.20</td>\n",
       "      <td>2012</td>\n",
       "      <td>Light novel</td>\n",
       "      <td>A-1 pictures</td>\n",
       "      <td>not_given</td>\n",
       "      <td>New_webseries</td>\n",
       "    </tr>\n",
       "    <tr>\n",
       "      <th>4</th>\n",
       "      <td>4</td>\n",
       "      <td>Boku no Hero Academia</td>\n",
       "      <td>2.8M</td>\n",
       "      <td>7.91</td>\n",
       "      <td>2016</td>\n",
       "      <td>Manga</td>\n",
       "      <td>Bones</td>\n",
       "      <td>Shounen</td>\n",
       "      <td>New_webseries</td>\n",
       "    </tr>\n",
       "    <tr>\n",
       "      <th>...</th>\n",
       "      <td>...</td>\n",
       "      <td>...</td>\n",
       "      <td>...</td>\n",
       "      <td>...</td>\n",
       "      <td>...</td>\n",
       "      <td>...</td>\n",
       "      <td>...</td>\n",
       "      <td>...</td>\n",
       "      <td>...</td>\n",
       "    </tr>\n",
       "    <tr>\n",
       "      <th>630</th>\n",
       "      <td>630</td>\n",
       "      <td>Assault Lily: Bouquet</td>\n",
       "      <td>80K</td>\n",
       "      <td>6.47</td>\n",
       "      <td>2020</td>\n",
       "      <td>Mixed media</td>\n",
       "      <td>Shaft</td>\n",
       "      <td>not_given</td>\n",
       "      <td>New_webseries</td>\n",
       "    </tr>\n",
       "    <tr>\n",
       "      <th>631</th>\n",
       "      <td>631</td>\n",
       "      <td>Persona: Trinity Soul</td>\n",
       "      <td>80K</td>\n",
       "      <td>6.52</td>\n",
       "      <td>2008</td>\n",
       "      <td>Original</td>\n",
       "      <td>A-1 pictures</td>\n",
       "      <td>not_given</td>\n",
       "      <td>vintage</td>\n",
       "    </tr>\n",
       "    <tr>\n",
       "      <th>632</th>\n",
       "      <td>632</td>\n",
       "      <td>Touken Ranbu: Hanamaru</td>\n",
       "      <td>80K</td>\n",
       "      <td>6.83</td>\n",
       "      <td>2016</td>\n",
       "      <td>Game</td>\n",
       "      <td>Doga kobo</td>\n",
       "      <td>not_given</td>\n",
       "      <td>New_webseries</td>\n",
       "    </tr>\n",
       "    <tr>\n",
       "      <th>633</th>\n",
       "      <td>633</td>\n",
       "      <td>Trigun Stampede</td>\n",
       "      <td>80K</td>\n",
       "      <td>7.35</td>\n",
       "      <td>2023</td>\n",
       "      <td>Manga</td>\n",
       "      <td>Orange</td>\n",
       "      <td>Shounen</td>\n",
       "      <td>New_webseries</td>\n",
       "    </tr>\n",
       "    <tr>\n",
       "      <th>634</th>\n",
       "      <td>634</td>\n",
       "      <td>Mahou Shoujo Tokushusen Asuka</td>\n",
       "      <td>79K</td>\n",
       "      <td>6.33</td>\n",
       "      <td>2019</td>\n",
       "      <td>Manga</td>\n",
       "      <td>Lidenfilms</td>\n",
       "      <td>Seinen</td>\n",
       "      <td>New_webseries</td>\n",
       "    </tr>\n",
       "  </tbody>\n",
       "</table>\n",
       "<p>616 rows × 9 columns</p>\n",
       "</div>"
      ],
      "text/plain": [
       "     Unnamed: 0                             Title Users  Rating  Released  \\\n",
       "0             0                Shingeki no Kyojin  3.6M    8.53      2013   \n",
       "1             1  Fullmetal Alchemist: Brotherhood  3.1M    9.11      2009   \n",
       "2             2                     One Punch Man  3.0M    8.50      2015   \n",
       "3             3                  Sword Art Online  2.9M    7.20      2012   \n",
       "4             4             Boku no Hero Academia  2.8M    7.91      2016   \n",
       "..          ...                               ...   ...     ...       ...   \n",
       "630         630             Assault Lily: Bouquet   80K    6.47      2020   \n",
       "631         631             Persona: Trinity Soul   80K    6.52      2008   \n",
       "632         632            Touken Ranbu: Hanamaru   80K    6.83      2016   \n",
       "633         633                   Trigun Stampede   80K    7.35      2023   \n",
       "634         634     Mahou Shoujo Tokushusen Asuka   79K    6.33      2019   \n",
       "\n",
       "          Source        Studio Demographic            New  \n",
       "0          Manga    Wit studio     Shounen  New_webseries  \n",
       "1          Manga         Bones     Shounen        vintage  \n",
       "2      Web manga      Madhouse      Seinen  New_webseries  \n",
       "3    Light novel  A-1 pictures   not_given  New_webseries  \n",
       "4          Manga         Bones     Shounen  New_webseries  \n",
       "..           ...           ...         ...            ...  \n",
       "630  Mixed media         Shaft   not_given  New_webseries  \n",
       "631     Original  A-1 pictures   not_given        vintage  \n",
       "632         Game     Doga kobo   not_given  New_webseries  \n",
       "633        Manga        Orange     Shounen  New_webseries  \n",
       "634        Manga    Lidenfilms      Seinen  New_webseries  \n",
       "\n",
       "[616 rows x 9 columns]"
      ]
     },
     "execution_count": 40,
     "metadata": {},
     "output_type": "execute_result"
    }
   ],
   "source": [
    "df"
   ]
  },
  {
   "cell_type": "code",
   "execution_count": 41,
   "id": "2d0dfe7c",
   "metadata": {},
   "outputs": [],
   "source": [
    "df = df.drop(df.columns[0], axis=1)"
   ]
  },
  {
   "cell_type": "code",
   "execution_count": 42,
   "id": "5b6fc6ac",
   "metadata": {},
   "outputs": [
    {
     "data": {
      "text/html": [
       "<div>\n",
       "<style scoped>\n",
       "    .dataframe tbody tr th:only-of-type {\n",
       "        vertical-align: middle;\n",
       "    }\n",
       "\n",
       "    .dataframe tbody tr th {\n",
       "        vertical-align: top;\n",
       "    }\n",
       "\n",
       "    .dataframe thead th {\n",
       "        text-align: right;\n",
       "    }\n",
       "</style>\n",
       "<table border=\"1\" class=\"dataframe\">\n",
       "  <thead>\n",
       "    <tr style=\"text-align: right;\">\n",
       "      <th></th>\n",
       "      <th>Title</th>\n",
       "      <th>Users</th>\n",
       "      <th>Rating</th>\n",
       "      <th>Released</th>\n",
       "      <th>Source</th>\n",
       "      <th>Studio</th>\n",
       "      <th>Demographic</th>\n",
       "      <th>New</th>\n",
       "    </tr>\n",
       "  </thead>\n",
       "  <tbody>\n",
       "    <tr>\n",
       "      <th>0</th>\n",
       "      <td>Shingeki no Kyojin</td>\n",
       "      <td>3.6M</td>\n",
       "      <td>8.53</td>\n",
       "      <td>2013</td>\n",
       "      <td>Manga</td>\n",
       "      <td>Wit studio</td>\n",
       "      <td>Shounen</td>\n",
       "      <td>New_webseries</td>\n",
       "    </tr>\n",
       "    <tr>\n",
       "      <th>1</th>\n",
       "      <td>Fullmetal Alchemist: Brotherhood</td>\n",
       "      <td>3.1M</td>\n",
       "      <td>9.11</td>\n",
       "      <td>2009</td>\n",
       "      <td>Manga</td>\n",
       "      <td>Bones</td>\n",
       "      <td>Shounen</td>\n",
       "      <td>vintage</td>\n",
       "    </tr>\n",
       "    <tr>\n",
       "      <th>2</th>\n",
       "      <td>One Punch Man</td>\n",
       "      <td>3.0M</td>\n",
       "      <td>8.50</td>\n",
       "      <td>2015</td>\n",
       "      <td>Web manga</td>\n",
       "      <td>Madhouse</td>\n",
       "      <td>Seinen</td>\n",
       "      <td>New_webseries</td>\n",
       "    </tr>\n",
       "    <tr>\n",
       "      <th>3</th>\n",
       "      <td>Sword Art Online</td>\n",
       "      <td>2.9M</td>\n",
       "      <td>7.20</td>\n",
       "      <td>2012</td>\n",
       "      <td>Light novel</td>\n",
       "      <td>A-1 pictures</td>\n",
       "      <td>not_given</td>\n",
       "      <td>New_webseries</td>\n",
       "    </tr>\n",
       "    <tr>\n",
       "      <th>4</th>\n",
       "      <td>Boku no Hero Academia</td>\n",
       "      <td>2.8M</td>\n",
       "      <td>7.91</td>\n",
       "      <td>2016</td>\n",
       "      <td>Manga</td>\n",
       "      <td>Bones</td>\n",
       "      <td>Shounen</td>\n",
       "      <td>New_webseries</td>\n",
       "    </tr>\n",
       "    <tr>\n",
       "      <th>...</th>\n",
       "      <td>...</td>\n",
       "      <td>...</td>\n",
       "      <td>...</td>\n",
       "      <td>...</td>\n",
       "      <td>...</td>\n",
       "      <td>...</td>\n",
       "      <td>...</td>\n",
       "      <td>...</td>\n",
       "    </tr>\n",
       "    <tr>\n",
       "      <th>630</th>\n",
       "      <td>Assault Lily: Bouquet</td>\n",
       "      <td>80K</td>\n",
       "      <td>6.47</td>\n",
       "      <td>2020</td>\n",
       "      <td>Mixed media</td>\n",
       "      <td>Shaft</td>\n",
       "      <td>not_given</td>\n",
       "      <td>New_webseries</td>\n",
       "    </tr>\n",
       "    <tr>\n",
       "      <th>631</th>\n",
       "      <td>Persona: Trinity Soul</td>\n",
       "      <td>80K</td>\n",
       "      <td>6.52</td>\n",
       "      <td>2008</td>\n",
       "      <td>Original</td>\n",
       "      <td>A-1 pictures</td>\n",
       "      <td>not_given</td>\n",
       "      <td>vintage</td>\n",
       "    </tr>\n",
       "    <tr>\n",
       "      <th>632</th>\n",
       "      <td>Touken Ranbu: Hanamaru</td>\n",
       "      <td>80K</td>\n",
       "      <td>6.83</td>\n",
       "      <td>2016</td>\n",
       "      <td>Game</td>\n",
       "      <td>Doga kobo</td>\n",
       "      <td>not_given</td>\n",
       "      <td>New_webseries</td>\n",
       "    </tr>\n",
       "    <tr>\n",
       "      <th>633</th>\n",
       "      <td>Trigun Stampede</td>\n",
       "      <td>80K</td>\n",
       "      <td>7.35</td>\n",
       "      <td>2023</td>\n",
       "      <td>Manga</td>\n",
       "      <td>Orange</td>\n",
       "      <td>Shounen</td>\n",
       "      <td>New_webseries</td>\n",
       "    </tr>\n",
       "    <tr>\n",
       "      <th>634</th>\n",
       "      <td>Mahou Shoujo Tokushusen Asuka</td>\n",
       "      <td>79K</td>\n",
       "      <td>6.33</td>\n",
       "      <td>2019</td>\n",
       "      <td>Manga</td>\n",
       "      <td>Lidenfilms</td>\n",
       "      <td>Seinen</td>\n",
       "      <td>New_webseries</td>\n",
       "    </tr>\n",
       "  </tbody>\n",
       "</table>\n",
       "<p>616 rows × 8 columns</p>\n",
       "</div>"
      ],
      "text/plain": [
       "                                Title Users  Rating  Released       Source  \\\n",
       "0                  Shingeki no Kyojin  3.6M    8.53      2013        Manga   \n",
       "1    Fullmetal Alchemist: Brotherhood  3.1M    9.11      2009        Manga   \n",
       "2                       One Punch Man  3.0M    8.50      2015    Web manga   \n",
       "3                    Sword Art Online  2.9M    7.20      2012  Light novel   \n",
       "4               Boku no Hero Academia  2.8M    7.91      2016        Manga   \n",
       "..                                ...   ...     ...       ...          ...   \n",
       "630             Assault Lily: Bouquet   80K    6.47      2020  Mixed media   \n",
       "631             Persona: Trinity Soul   80K    6.52      2008     Original   \n",
       "632            Touken Ranbu: Hanamaru   80K    6.83      2016         Game   \n",
       "633                   Trigun Stampede   80K    7.35      2023        Manga   \n",
       "634     Mahou Shoujo Tokushusen Asuka   79K    6.33      2019        Manga   \n",
       "\n",
       "           Studio Demographic            New  \n",
       "0      Wit studio     Shounen  New_webseries  \n",
       "1           Bones     Shounen        vintage  \n",
       "2        Madhouse      Seinen  New_webseries  \n",
       "3    A-1 pictures   not_given  New_webseries  \n",
       "4           Bones     Shounen  New_webseries  \n",
       "..            ...         ...            ...  \n",
       "630         Shaft   not_given  New_webseries  \n",
       "631  A-1 pictures   not_given        vintage  \n",
       "632     Doga kobo   not_given  New_webseries  \n",
       "633        Orange     Shounen  New_webseries  \n",
       "634    Lidenfilms      Seinen  New_webseries  \n",
       "\n",
       "[616 rows x 8 columns]"
      ]
     },
     "execution_count": 42,
     "metadata": {},
     "output_type": "execute_result"
    }
   ],
   "source": [
    "df"
   ]
  },
  {
   "cell_type": "code",
   "execution_count": 43,
   "id": "d353f0c2",
   "metadata": {},
   "outputs": [
    {
     "data": {
      "text/plain": [
       "0"
      ]
     },
     "execution_count": 43,
     "metadata": {},
     "output_type": "execute_result"
    }
   ],
   "source": [
    "df.duplicated().sum()"
   ]
  },
  {
   "cell_type": "code",
   "execution_count": 44,
   "id": "79a3a40e",
   "metadata": {},
   "outputs": [
    {
     "data": {
      "text/html": [
       "<div>\n",
       "<style scoped>\n",
       "    .dataframe tbody tr th:only-of-type {\n",
       "        vertical-align: middle;\n",
       "    }\n",
       "\n",
       "    .dataframe tbody tr th {\n",
       "        vertical-align: top;\n",
       "    }\n",
       "\n",
       "    .dataframe thead th {\n",
       "        text-align: right;\n",
       "    }\n",
       "</style>\n",
       "<table border=\"1\" class=\"dataframe\">\n",
       "  <thead>\n",
       "    <tr style=\"text-align: right;\">\n",
       "      <th></th>\n",
       "      <th>Title</th>\n",
       "      <th>Users</th>\n",
       "      <th>Rating</th>\n",
       "      <th>Released</th>\n",
       "      <th>Source</th>\n",
       "      <th>Studio</th>\n",
       "      <th>Demographic</th>\n",
       "      <th>New</th>\n",
       "    </tr>\n",
       "  </thead>\n",
       "  <tbody>\n",
       "    <tr>\n",
       "      <th>0</th>\n",
       "      <td>Shingeki no Kyojin</td>\n",
       "      <td>3.6M</td>\n",
       "      <td>8.53</td>\n",
       "      <td>2013</td>\n",
       "      <td>Manga</td>\n",
       "      <td>Wit studio</td>\n",
       "      <td>Shounen</td>\n",
       "      <td>New_webseries</td>\n",
       "    </tr>\n",
       "    <tr>\n",
       "      <th>1</th>\n",
       "      <td>Fullmetal Alchemist: Brotherhood</td>\n",
       "      <td>3.1M</td>\n",
       "      <td>9.11</td>\n",
       "      <td>2009</td>\n",
       "      <td>Manga</td>\n",
       "      <td>Bones</td>\n",
       "      <td>Shounen</td>\n",
       "      <td>vintage</td>\n",
       "    </tr>\n",
       "    <tr>\n",
       "      <th>2</th>\n",
       "      <td>One Punch Man</td>\n",
       "      <td>3.0M</td>\n",
       "      <td>8.50</td>\n",
       "      <td>2015</td>\n",
       "      <td>Web manga</td>\n",
       "      <td>Madhouse</td>\n",
       "      <td>Seinen</td>\n",
       "      <td>New_webseries</td>\n",
       "    </tr>\n",
       "    <tr>\n",
       "      <th>3</th>\n",
       "      <td>Sword Art Online</td>\n",
       "      <td>2.9M</td>\n",
       "      <td>7.20</td>\n",
       "      <td>2012</td>\n",
       "      <td>Light novel</td>\n",
       "      <td>A-1 pictures</td>\n",
       "      <td>not_given</td>\n",
       "      <td>New_webseries</td>\n",
       "    </tr>\n",
       "    <tr>\n",
       "      <th>4</th>\n",
       "      <td>Boku no Hero Academia</td>\n",
       "      <td>2.8M</td>\n",
       "      <td>7.91</td>\n",
       "      <td>2016</td>\n",
       "      <td>Manga</td>\n",
       "      <td>Bones</td>\n",
       "      <td>Shounen</td>\n",
       "      <td>New_webseries</td>\n",
       "    </tr>\n",
       "    <tr>\n",
       "      <th>...</th>\n",
       "      <td>...</td>\n",
       "      <td>...</td>\n",
       "      <td>...</td>\n",
       "      <td>...</td>\n",
       "      <td>...</td>\n",
       "      <td>...</td>\n",
       "      <td>...</td>\n",
       "      <td>...</td>\n",
       "    </tr>\n",
       "    <tr>\n",
       "      <th>630</th>\n",
       "      <td>Assault Lily: Bouquet</td>\n",
       "      <td>80K</td>\n",
       "      <td>6.47</td>\n",
       "      <td>2020</td>\n",
       "      <td>Mixed media</td>\n",
       "      <td>Shaft</td>\n",
       "      <td>not_given</td>\n",
       "      <td>New_webseries</td>\n",
       "    </tr>\n",
       "    <tr>\n",
       "      <th>631</th>\n",
       "      <td>Persona: Trinity Soul</td>\n",
       "      <td>80K</td>\n",
       "      <td>6.52</td>\n",
       "      <td>2008</td>\n",
       "      <td>Original</td>\n",
       "      <td>A-1 pictures</td>\n",
       "      <td>not_given</td>\n",
       "      <td>vintage</td>\n",
       "    </tr>\n",
       "    <tr>\n",
       "      <th>632</th>\n",
       "      <td>Touken Ranbu: Hanamaru</td>\n",
       "      <td>80K</td>\n",
       "      <td>6.83</td>\n",
       "      <td>2016</td>\n",
       "      <td>Game</td>\n",
       "      <td>Doga kobo</td>\n",
       "      <td>not_given</td>\n",
       "      <td>New_webseries</td>\n",
       "    </tr>\n",
       "    <tr>\n",
       "      <th>633</th>\n",
       "      <td>Trigun Stampede</td>\n",
       "      <td>80K</td>\n",
       "      <td>7.35</td>\n",
       "      <td>2023</td>\n",
       "      <td>Manga</td>\n",
       "      <td>Orange</td>\n",
       "      <td>Shounen</td>\n",
       "      <td>New_webseries</td>\n",
       "    </tr>\n",
       "    <tr>\n",
       "      <th>634</th>\n",
       "      <td>Mahou Shoujo Tokushusen Asuka</td>\n",
       "      <td>79K</td>\n",
       "      <td>6.33</td>\n",
       "      <td>2019</td>\n",
       "      <td>Manga</td>\n",
       "      <td>Lidenfilms</td>\n",
       "      <td>Seinen</td>\n",
       "      <td>New_webseries</td>\n",
       "    </tr>\n",
       "  </tbody>\n",
       "</table>\n",
       "<p>616 rows × 8 columns</p>\n",
       "</div>"
      ],
      "text/plain": [
       "                                Title Users  Rating  Released       Source  \\\n",
       "0                  Shingeki no Kyojin  3.6M    8.53      2013        Manga   \n",
       "1    Fullmetal Alchemist: Brotherhood  3.1M    9.11      2009        Manga   \n",
       "2                       One Punch Man  3.0M    8.50      2015    Web manga   \n",
       "3                    Sword Art Online  2.9M    7.20      2012  Light novel   \n",
       "4               Boku no Hero Academia  2.8M    7.91      2016        Manga   \n",
       "..                                ...   ...     ...       ...          ...   \n",
       "630             Assault Lily: Bouquet   80K    6.47      2020  Mixed media   \n",
       "631             Persona: Trinity Soul   80K    6.52      2008     Original   \n",
       "632            Touken Ranbu: Hanamaru   80K    6.83      2016         Game   \n",
       "633                   Trigun Stampede   80K    7.35      2023        Manga   \n",
       "634     Mahou Shoujo Tokushusen Asuka   79K    6.33      2019        Manga   \n",
       "\n",
       "           Studio Demographic            New  \n",
       "0      Wit studio     Shounen  New_webseries  \n",
       "1           Bones     Shounen        vintage  \n",
       "2        Madhouse      Seinen  New_webseries  \n",
       "3    A-1 pictures   not_given  New_webseries  \n",
       "4           Bones     Shounen  New_webseries  \n",
       "..            ...         ...            ...  \n",
       "630         Shaft   not_given  New_webseries  \n",
       "631  A-1 pictures   not_given        vintage  \n",
       "632     Doga kobo   not_given  New_webseries  \n",
       "633        Orange     Shounen  New_webseries  \n",
       "634    Lidenfilms      Seinen  New_webseries  \n",
       "\n",
       "[616 rows x 8 columns]"
      ]
     },
     "execution_count": 44,
     "metadata": {},
     "output_type": "execute_result"
    }
   ],
   "source": [
    "df"
   ]
  },
  {
   "cell_type": "markdown",
   "id": "1ae499b3",
   "metadata": {},
   "source": [
    "## changing M and k to integers"
   ]
  },
  {
   "cell_type": "code",
   "execution_count": 45,
   "id": "1e2d74fb",
   "metadata": {},
   "outputs": [
    {
     "data": {
      "text/plain": [
       "0      3.6*1e6\n",
       "1      3.1*1e6\n",
       "2      3.0*1e6\n",
       "3      2.9*1e6\n",
       "4      2.8*1e6\n",
       "        ...   \n",
       "630     80*1e3\n",
       "631     80*1e3\n",
       "632     80*1e3\n",
       "633     80*1e3\n",
       "634     79*1e3\n",
       "Name: Users, Length: 616, dtype: object"
      ]
     },
     "execution_count": 45,
     "metadata": {},
     "output_type": "execute_result"
    }
   ],
   "source": [
    "df['Users'].replace({'K': '*1e3', 'M': '*1e6'}, regex=True)\n"
   ]
  },
  {
   "cell_type": "code",
   "execution_count": 46,
   "id": "adb4b253",
   "metadata": {},
   "outputs": [],
   "source": [
    "a=_ .map(pd.eval)"
   ]
  },
  {
   "cell_type": "code",
   "execution_count": 47,
   "id": "e46fdf09",
   "metadata": {},
   "outputs": [
    {
     "data": {
      "text/plain": [
       "0      3600000.0\n",
       "1      3100000.0\n",
       "2      3000000.0\n",
       "3      2900000.0\n",
       "4      2800000.0\n",
       "         ...    \n",
       "630      80000.0\n",
       "631      80000.0\n",
       "632      80000.0\n",
       "633      80000.0\n",
       "634      79000.0\n",
       "Name: Users, Length: 616, dtype: float64"
      ]
     },
     "execution_count": 47,
     "metadata": {},
     "output_type": "execute_result"
    }
   ],
   "source": [
    "a"
   ]
  },
  {
   "cell_type": "code",
   "execution_count": 48,
   "id": "2f758230",
   "metadata": {},
   "outputs": [],
   "source": [
    "df['Users']=a"
   ]
  },
  {
   "cell_type": "code",
   "execution_count": 49,
   "id": "d8bdd239",
   "metadata": {},
   "outputs": [
    {
     "data": {
      "text/html": [
       "<div>\n",
       "<style scoped>\n",
       "    .dataframe tbody tr th:only-of-type {\n",
       "        vertical-align: middle;\n",
       "    }\n",
       "\n",
       "    .dataframe tbody tr th {\n",
       "        vertical-align: top;\n",
       "    }\n",
       "\n",
       "    .dataframe thead th {\n",
       "        text-align: right;\n",
       "    }\n",
       "</style>\n",
       "<table border=\"1\" class=\"dataframe\">\n",
       "  <thead>\n",
       "    <tr style=\"text-align: right;\">\n",
       "      <th></th>\n",
       "      <th>Title</th>\n",
       "      <th>Users</th>\n",
       "      <th>Rating</th>\n",
       "      <th>Released</th>\n",
       "      <th>Source</th>\n",
       "      <th>Studio</th>\n",
       "      <th>Demographic</th>\n",
       "      <th>New</th>\n",
       "    </tr>\n",
       "  </thead>\n",
       "  <tbody>\n",
       "    <tr>\n",
       "      <th>0</th>\n",
       "      <td>Shingeki no Kyojin</td>\n",
       "      <td>3600000.0</td>\n",
       "      <td>8.53</td>\n",
       "      <td>2013</td>\n",
       "      <td>Manga</td>\n",
       "      <td>Wit studio</td>\n",
       "      <td>Shounen</td>\n",
       "      <td>New_webseries</td>\n",
       "    </tr>\n",
       "    <tr>\n",
       "      <th>1</th>\n",
       "      <td>Fullmetal Alchemist: Brotherhood</td>\n",
       "      <td>3100000.0</td>\n",
       "      <td>9.11</td>\n",
       "      <td>2009</td>\n",
       "      <td>Manga</td>\n",
       "      <td>Bones</td>\n",
       "      <td>Shounen</td>\n",
       "      <td>vintage</td>\n",
       "    </tr>\n",
       "    <tr>\n",
       "      <th>2</th>\n",
       "      <td>One Punch Man</td>\n",
       "      <td>3000000.0</td>\n",
       "      <td>8.50</td>\n",
       "      <td>2015</td>\n",
       "      <td>Web manga</td>\n",
       "      <td>Madhouse</td>\n",
       "      <td>Seinen</td>\n",
       "      <td>New_webseries</td>\n",
       "    </tr>\n",
       "    <tr>\n",
       "      <th>3</th>\n",
       "      <td>Sword Art Online</td>\n",
       "      <td>2900000.0</td>\n",
       "      <td>7.20</td>\n",
       "      <td>2012</td>\n",
       "      <td>Light novel</td>\n",
       "      <td>A-1 pictures</td>\n",
       "      <td>not_given</td>\n",
       "      <td>New_webseries</td>\n",
       "    </tr>\n",
       "    <tr>\n",
       "      <th>4</th>\n",
       "      <td>Boku no Hero Academia</td>\n",
       "      <td>2800000.0</td>\n",
       "      <td>7.91</td>\n",
       "      <td>2016</td>\n",
       "      <td>Manga</td>\n",
       "      <td>Bones</td>\n",
       "      <td>Shounen</td>\n",
       "      <td>New_webseries</td>\n",
       "    </tr>\n",
       "    <tr>\n",
       "      <th>...</th>\n",
       "      <td>...</td>\n",
       "      <td>...</td>\n",
       "      <td>...</td>\n",
       "      <td>...</td>\n",
       "      <td>...</td>\n",
       "      <td>...</td>\n",
       "      <td>...</td>\n",
       "      <td>...</td>\n",
       "    </tr>\n",
       "    <tr>\n",
       "      <th>630</th>\n",
       "      <td>Assault Lily: Bouquet</td>\n",
       "      <td>80000.0</td>\n",
       "      <td>6.47</td>\n",
       "      <td>2020</td>\n",
       "      <td>Mixed media</td>\n",
       "      <td>Shaft</td>\n",
       "      <td>not_given</td>\n",
       "      <td>New_webseries</td>\n",
       "    </tr>\n",
       "    <tr>\n",
       "      <th>631</th>\n",
       "      <td>Persona: Trinity Soul</td>\n",
       "      <td>80000.0</td>\n",
       "      <td>6.52</td>\n",
       "      <td>2008</td>\n",
       "      <td>Original</td>\n",
       "      <td>A-1 pictures</td>\n",
       "      <td>not_given</td>\n",
       "      <td>vintage</td>\n",
       "    </tr>\n",
       "    <tr>\n",
       "      <th>632</th>\n",
       "      <td>Touken Ranbu: Hanamaru</td>\n",
       "      <td>80000.0</td>\n",
       "      <td>6.83</td>\n",
       "      <td>2016</td>\n",
       "      <td>Game</td>\n",
       "      <td>Doga kobo</td>\n",
       "      <td>not_given</td>\n",
       "      <td>New_webseries</td>\n",
       "    </tr>\n",
       "    <tr>\n",
       "      <th>633</th>\n",
       "      <td>Trigun Stampede</td>\n",
       "      <td>80000.0</td>\n",
       "      <td>7.35</td>\n",
       "      <td>2023</td>\n",
       "      <td>Manga</td>\n",
       "      <td>Orange</td>\n",
       "      <td>Shounen</td>\n",
       "      <td>New_webseries</td>\n",
       "    </tr>\n",
       "    <tr>\n",
       "      <th>634</th>\n",
       "      <td>Mahou Shoujo Tokushusen Asuka</td>\n",
       "      <td>79000.0</td>\n",
       "      <td>6.33</td>\n",
       "      <td>2019</td>\n",
       "      <td>Manga</td>\n",
       "      <td>Lidenfilms</td>\n",
       "      <td>Seinen</td>\n",
       "      <td>New_webseries</td>\n",
       "    </tr>\n",
       "  </tbody>\n",
       "</table>\n",
       "<p>616 rows × 8 columns</p>\n",
       "</div>"
      ],
      "text/plain": [
       "                                Title      Users  Rating  Released  \\\n",
       "0                  Shingeki no Kyojin  3600000.0    8.53      2013   \n",
       "1    Fullmetal Alchemist: Brotherhood  3100000.0    9.11      2009   \n",
       "2                       One Punch Man  3000000.0    8.50      2015   \n",
       "3                    Sword Art Online  2900000.0    7.20      2012   \n",
       "4               Boku no Hero Academia  2800000.0    7.91      2016   \n",
       "..                                ...        ...     ...       ...   \n",
       "630             Assault Lily: Bouquet    80000.0    6.47      2020   \n",
       "631             Persona: Trinity Soul    80000.0    6.52      2008   \n",
       "632            Touken Ranbu: Hanamaru    80000.0    6.83      2016   \n",
       "633                   Trigun Stampede    80000.0    7.35      2023   \n",
       "634     Mahou Shoujo Tokushusen Asuka    79000.0    6.33      2019   \n",
       "\n",
       "          Source        Studio Demographic            New  \n",
       "0          Manga    Wit studio     Shounen  New_webseries  \n",
       "1          Manga         Bones     Shounen        vintage  \n",
       "2      Web manga      Madhouse      Seinen  New_webseries  \n",
       "3    Light novel  A-1 pictures   not_given  New_webseries  \n",
       "4          Manga         Bones     Shounen  New_webseries  \n",
       "..           ...           ...         ...            ...  \n",
       "630  Mixed media         Shaft   not_given  New_webseries  \n",
       "631     Original  A-1 pictures   not_given        vintage  \n",
       "632         Game     Doga kobo   not_given  New_webseries  \n",
       "633        Manga        Orange     Shounen  New_webseries  \n",
       "634        Manga    Lidenfilms      Seinen  New_webseries  \n",
       "\n",
       "[616 rows x 8 columns]"
      ]
     },
     "execution_count": 49,
     "metadata": {},
     "output_type": "execute_result"
    }
   ],
   "source": [
    "df"
   ]
  },
  {
   "cell_type": "code",
   "execution_count": 50,
   "id": "f47895b8",
   "metadata": {},
   "outputs": [
    {
     "data": {
      "text/plain": [
       "0      3600000.0\n",
       "1      3100000.0\n",
       "2      3000000.0\n",
       "3      2900000.0\n",
       "4      2800000.0\n",
       "         ...    \n",
       "630      80000.0\n",
       "631      80000.0\n",
       "632      80000.0\n",
       "633      80000.0\n",
       "634      79000.0\n",
       "Name: Users, Length: 616, dtype: float64"
      ]
     },
     "execution_count": 50,
     "metadata": {},
     "output_type": "execute_result"
    }
   ],
   "source": [
    "df['Users']"
   ]
  },
  {
   "cell_type": "code",
   "execution_count": 51,
   "id": "ec734e51",
   "metadata": {},
   "outputs": [],
   "source": [
    "df['Users']=df['Users'].astype(int)"
   ]
  },
  {
   "cell_type": "code",
   "execution_count": 52,
   "id": "f3c524c4",
   "metadata": {
    "scrolled": true
   },
   "outputs": [
    {
     "data": {
      "text/html": [
       "<div>\n",
       "<style scoped>\n",
       "    .dataframe tbody tr th:only-of-type {\n",
       "        vertical-align: middle;\n",
       "    }\n",
       "\n",
       "    .dataframe tbody tr th {\n",
       "        vertical-align: top;\n",
       "    }\n",
       "\n",
       "    .dataframe thead th {\n",
       "        text-align: right;\n",
       "    }\n",
       "</style>\n",
       "<table border=\"1\" class=\"dataframe\">\n",
       "  <thead>\n",
       "    <tr style=\"text-align: right;\">\n",
       "      <th></th>\n",
       "      <th>Title</th>\n",
       "      <th>Users</th>\n",
       "      <th>Rating</th>\n",
       "      <th>Released</th>\n",
       "      <th>Source</th>\n",
       "      <th>Studio</th>\n",
       "      <th>Demographic</th>\n",
       "      <th>New</th>\n",
       "    </tr>\n",
       "  </thead>\n",
       "  <tbody>\n",
       "    <tr>\n",
       "      <th>0</th>\n",
       "      <td>Shingeki no Kyojin</td>\n",
       "      <td>3600000</td>\n",
       "      <td>8.53</td>\n",
       "      <td>2013</td>\n",
       "      <td>Manga</td>\n",
       "      <td>Wit studio</td>\n",
       "      <td>Shounen</td>\n",
       "      <td>New_webseries</td>\n",
       "    </tr>\n",
       "    <tr>\n",
       "      <th>1</th>\n",
       "      <td>Fullmetal Alchemist: Brotherhood</td>\n",
       "      <td>3100000</td>\n",
       "      <td>9.11</td>\n",
       "      <td>2009</td>\n",
       "      <td>Manga</td>\n",
       "      <td>Bones</td>\n",
       "      <td>Shounen</td>\n",
       "      <td>vintage</td>\n",
       "    </tr>\n",
       "    <tr>\n",
       "      <th>2</th>\n",
       "      <td>One Punch Man</td>\n",
       "      <td>3000000</td>\n",
       "      <td>8.50</td>\n",
       "      <td>2015</td>\n",
       "      <td>Web manga</td>\n",
       "      <td>Madhouse</td>\n",
       "      <td>Seinen</td>\n",
       "      <td>New_webseries</td>\n",
       "    </tr>\n",
       "    <tr>\n",
       "      <th>3</th>\n",
       "      <td>Sword Art Online</td>\n",
       "      <td>2900000</td>\n",
       "      <td>7.20</td>\n",
       "      <td>2012</td>\n",
       "      <td>Light novel</td>\n",
       "      <td>A-1 pictures</td>\n",
       "      <td>not_given</td>\n",
       "      <td>New_webseries</td>\n",
       "    </tr>\n",
       "    <tr>\n",
       "      <th>4</th>\n",
       "      <td>Boku no Hero Academia</td>\n",
       "      <td>2800000</td>\n",
       "      <td>7.91</td>\n",
       "      <td>2016</td>\n",
       "      <td>Manga</td>\n",
       "      <td>Bones</td>\n",
       "      <td>Shounen</td>\n",
       "      <td>New_webseries</td>\n",
       "    </tr>\n",
       "    <tr>\n",
       "      <th>...</th>\n",
       "      <td>...</td>\n",
       "      <td>...</td>\n",
       "      <td>...</td>\n",
       "      <td>...</td>\n",
       "      <td>...</td>\n",
       "      <td>...</td>\n",
       "      <td>...</td>\n",
       "      <td>...</td>\n",
       "    </tr>\n",
       "    <tr>\n",
       "      <th>630</th>\n",
       "      <td>Assault Lily: Bouquet</td>\n",
       "      <td>80000</td>\n",
       "      <td>6.47</td>\n",
       "      <td>2020</td>\n",
       "      <td>Mixed media</td>\n",
       "      <td>Shaft</td>\n",
       "      <td>not_given</td>\n",
       "      <td>New_webseries</td>\n",
       "    </tr>\n",
       "    <tr>\n",
       "      <th>631</th>\n",
       "      <td>Persona: Trinity Soul</td>\n",
       "      <td>80000</td>\n",
       "      <td>6.52</td>\n",
       "      <td>2008</td>\n",
       "      <td>Original</td>\n",
       "      <td>A-1 pictures</td>\n",
       "      <td>not_given</td>\n",
       "      <td>vintage</td>\n",
       "    </tr>\n",
       "    <tr>\n",
       "      <th>632</th>\n",
       "      <td>Touken Ranbu: Hanamaru</td>\n",
       "      <td>80000</td>\n",
       "      <td>6.83</td>\n",
       "      <td>2016</td>\n",
       "      <td>Game</td>\n",
       "      <td>Doga kobo</td>\n",
       "      <td>not_given</td>\n",
       "      <td>New_webseries</td>\n",
       "    </tr>\n",
       "    <tr>\n",
       "      <th>633</th>\n",
       "      <td>Trigun Stampede</td>\n",
       "      <td>80000</td>\n",
       "      <td>7.35</td>\n",
       "      <td>2023</td>\n",
       "      <td>Manga</td>\n",
       "      <td>Orange</td>\n",
       "      <td>Shounen</td>\n",
       "      <td>New_webseries</td>\n",
       "    </tr>\n",
       "    <tr>\n",
       "      <th>634</th>\n",
       "      <td>Mahou Shoujo Tokushusen Asuka</td>\n",
       "      <td>79000</td>\n",
       "      <td>6.33</td>\n",
       "      <td>2019</td>\n",
       "      <td>Manga</td>\n",
       "      <td>Lidenfilms</td>\n",
       "      <td>Seinen</td>\n",
       "      <td>New_webseries</td>\n",
       "    </tr>\n",
       "  </tbody>\n",
       "</table>\n",
       "<p>616 rows × 8 columns</p>\n",
       "</div>"
      ],
      "text/plain": [
       "                                Title    Users  Rating  Released       Source  \\\n",
       "0                  Shingeki no Kyojin  3600000    8.53      2013        Manga   \n",
       "1    Fullmetal Alchemist: Brotherhood  3100000    9.11      2009        Manga   \n",
       "2                       One Punch Man  3000000    8.50      2015    Web manga   \n",
       "3                    Sword Art Online  2900000    7.20      2012  Light novel   \n",
       "4               Boku no Hero Academia  2800000    7.91      2016        Manga   \n",
       "..                                ...      ...     ...       ...          ...   \n",
       "630             Assault Lily: Bouquet    80000    6.47      2020  Mixed media   \n",
       "631             Persona: Trinity Soul    80000    6.52      2008     Original   \n",
       "632            Touken Ranbu: Hanamaru    80000    6.83      2016         Game   \n",
       "633                   Trigun Stampede    80000    7.35      2023        Manga   \n",
       "634     Mahou Shoujo Tokushusen Asuka    79000    6.33      2019        Manga   \n",
       "\n",
       "           Studio Demographic            New  \n",
       "0      Wit studio     Shounen  New_webseries  \n",
       "1           Bones     Shounen        vintage  \n",
       "2        Madhouse      Seinen  New_webseries  \n",
       "3    A-1 pictures   not_given  New_webseries  \n",
       "4           Bones     Shounen  New_webseries  \n",
       "..            ...         ...            ...  \n",
       "630         Shaft   not_given  New_webseries  \n",
       "631  A-1 pictures   not_given        vintage  \n",
       "632     Doga kobo   not_given  New_webseries  \n",
       "633        Orange     Shounen  New_webseries  \n",
       "634    Lidenfilms      Seinen  New_webseries  \n",
       "\n",
       "[616 rows x 8 columns]"
      ]
     },
     "execution_count": 52,
     "metadata": {},
     "output_type": "execute_result"
    }
   ],
   "source": [
    "df"
   ]
  },
  {
   "cell_type": "code",
   "execution_count": 53,
   "id": "938cd99e",
   "metadata": {},
   "outputs": [
    {
     "data": {
      "text/plain": [
       "0      3600000\n",
       "1      3100000\n",
       "2      3000000\n",
       "3      2900000\n",
       "4      2800000\n",
       "        ...   \n",
       "630      80000\n",
       "631      80000\n",
       "632      80000\n",
       "633      80000\n",
       "634      79000\n",
       "Name: Users, Length: 616, dtype: int32"
      ]
     },
     "execution_count": 53,
     "metadata": {},
     "output_type": "execute_result"
    }
   ],
   "source": [
    "df['Users']"
   ]
  },
  {
   "cell_type": "code",
   "execution_count": 54,
   "id": "7cdab96e",
   "metadata": {
    "scrolled": true
   },
   "outputs": [
    {
     "name": "stdout",
     "output_type": "stream",
     "text": [
      "<class 'pandas.core.frame.DataFrame'>\n",
      "Int64Index: 616 entries, 0 to 634\n",
      "Data columns (total 8 columns):\n",
      " #   Column       Non-Null Count  Dtype  \n",
      "---  ------       --------------  -----  \n",
      " 0   Title        616 non-null    object \n",
      " 1   Users        616 non-null    int32  \n",
      " 2   Rating       616 non-null    float64\n",
      " 3   Released     616 non-null    int32  \n",
      " 4   Source       616 non-null    object \n",
      " 5   Studio       616 non-null    object \n",
      " 6   Demographic  616 non-null    object \n",
      " 7   New          616 non-null    object \n",
      "dtypes: float64(1), int32(2), object(5)\n",
      "memory usage: 38.5+ KB\n"
     ]
    }
   ],
   "source": [
    "df.info()"
   ]
  },
  {
   "cell_type": "code",
   "execution_count": 55,
   "id": "58227fa4",
   "metadata": {},
   "outputs": [
    {
     "data": {
      "text/plain": [
       "Title          0\n",
       "Users          0\n",
       "Rating         0\n",
       "Released       0\n",
       "Source         0\n",
       "Studio         0\n",
       "Demographic    0\n",
       "New            0\n",
       "dtype: int64"
      ]
     },
     "execution_count": 55,
     "metadata": {},
     "output_type": "execute_result"
    }
   ],
   "source": [
    "df.isnull().sum()"
   ]
  },
  {
   "cell_type": "markdown",
   "id": "1778ed0d",
   "metadata": {},
   "source": [
    "# Data visualization "
   ]
  },
  {
   "cell_type": "code",
   "execution_count": 56,
   "id": "78c55ee1",
   "metadata": {},
   "outputs": [],
   "source": [
    "import matplotlib.pyplot as plt\n",
    "import seaborn as sns"
   ]
  },
  {
   "cell_type": "code",
   "execution_count": 57,
   "id": "7d60a6df",
   "metadata": {},
   "outputs": [],
   "source": [
    "df=df.head(450)"
   ]
  },
  {
   "cell_type": "code",
   "execution_count": 58,
   "id": "2f2addab",
   "metadata": {
    "scrolled": true
   },
   "outputs": [
    {
     "data": {
      "text/html": [
       "<div>\n",
       "<style scoped>\n",
       "    .dataframe tbody tr th:only-of-type {\n",
       "        vertical-align: middle;\n",
       "    }\n",
       "\n",
       "    .dataframe tbody tr th {\n",
       "        vertical-align: top;\n",
       "    }\n",
       "\n",
       "    .dataframe thead th {\n",
       "        text-align: right;\n",
       "    }\n",
       "</style>\n",
       "<table border=\"1\" class=\"dataframe\">\n",
       "  <thead>\n",
       "    <tr style=\"text-align: right;\">\n",
       "      <th></th>\n",
       "      <th>Users</th>\n",
       "      <th>Rating</th>\n",
       "      <th>Released</th>\n",
       "    </tr>\n",
       "  </thead>\n",
       "  <tbody>\n",
       "    <tr>\n",
       "      <th>count</th>\n",
       "      <td>4.500000e+02</td>\n",
       "      <td>450.000000</td>\n",
       "      <td>450.000000</td>\n",
       "    </tr>\n",
       "    <tr>\n",
       "      <th>mean</th>\n",
       "      <td>6.157800e+05</td>\n",
       "      <td>7.491356</td>\n",
       "      <td>2013.560000</td>\n",
       "    </tr>\n",
       "    <tr>\n",
       "      <th>std</th>\n",
       "      <td>5.768867e+05</td>\n",
       "      <td>0.701549</td>\n",
       "      <td>6.288335</td>\n",
       "    </tr>\n",
       "    <tr>\n",
       "      <th>min</th>\n",
       "      <td>1.540000e+05</td>\n",
       "      <td>5.360000</td>\n",
       "      <td>1989.000000</td>\n",
       "    </tr>\n",
       "    <tr>\n",
       "      <th>25%</th>\n",
       "      <td>2.300000e+05</td>\n",
       "      <td>7.060000</td>\n",
       "      <td>2010.000000</td>\n",
       "    </tr>\n",
       "    <tr>\n",
       "      <th>50%</th>\n",
       "      <td>3.765000e+05</td>\n",
       "      <td>7.470000</td>\n",
       "      <td>2015.000000</td>\n",
       "    </tr>\n",
       "    <tr>\n",
       "      <th>75%</th>\n",
       "      <td>7.647500e+05</td>\n",
       "      <td>7.967500</td>\n",
       "      <td>2018.000000</td>\n",
       "    </tr>\n",
       "    <tr>\n",
       "      <th>max</th>\n",
       "      <td>3.600000e+06</td>\n",
       "      <td>9.110000</td>\n",
       "      <td>2023.000000</td>\n",
       "    </tr>\n",
       "  </tbody>\n",
       "</table>\n",
       "</div>"
      ],
      "text/plain": [
       "              Users      Rating     Released\n",
       "count  4.500000e+02  450.000000   450.000000\n",
       "mean   6.157800e+05    7.491356  2013.560000\n",
       "std    5.768867e+05    0.701549     6.288335\n",
       "min    1.540000e+05    5.360000  1989.000000\n",
       "25%    2.300000e+05    7.060000  2010.000000\n",
       "50%    3.765000e+05    7.470000  2015.000000\n",
       "75%    7.647500e+05    7.967500  2018.000000\n",
       "max    3.600000e+06    9.110000  2023.000000"
      ]
     },
     "execution_count": 58,
     "metadata": {},
     "output_type": "execute_result"
    }
   ],
   "source": [
    "df.describe()"
   ]
  },
  {
   "cell_type": "code",
   "execution_count": 59,
   "id": "eb737ed3",
   "metadata": {
    "scrolled": true
   },
   "outputs": [
    {
     "name": "stdout",
     "output_type": "stream",
     "text": [
      "<class 'pandas.core.frame.DataFrame'>\n",
      "Int64Index: 450 entries, 0 to 458\n",
      "Data columns (total 8 columns):\n",
      " #   Column       Non-Null Count  Dtype  \n",
      "---  ------       --------------  -----  \n",
      " 0   Title        450 non-null    object \n",
      " 1   Users        450 non-null    int32  \n",
      " 2   Rating       450 non-null    float64\n",
      " 3   Released     450 non-null    int32  \n",
      " 4   Source       450 non-null    object \n",
      " 5   Studio       450 non-null    object \n",
      " 6   Demographic  450 non-null    object \n",
      " 7   New          450 non-null    object \n",
      "dtypes: float64(1), int32(2), object(5)\n",
      "memory usage: 28.1+ KB\n"
     ]
    }
   ],
   "source": [
    "df.info()"
   ]
  },
  {
   "cell_type": "markdown",
   "id": "ecc54507",
   "metadata": {},
   "source": [
    "### Univariate non-graphical method\n",
    "\n",
    "  \n",
    "## countplot\n",
    "plots the count of the number of records by category. barplot plots a value or metric for each category (by default, barplot plots the mean of a variable, by category)"
   ]
  },
  {
   "cell_type": "code",
   "execution_count": 60,
   "id": "ce048d48",
   "metadata": {
    "scrolled": false
   },
   "outputs": [
    {
     "data": {
      "image/png": "[encoded data removed]",
      "text/plain": [
       "<Figure size 800x400 with 1 Axes>"
      ]
     },
     "metadata": {},
     "output_type": "display_data"
    }
   ],
   "source": [
    "plt.figure(figsize=(8,4))\n",
    "sns.countplot(x='Source', data=df)\n",
    "plt.title(\"Source of Action webseries\")\n",
    "plt.xticks(rotation=90)\n",
    "plt.show()"
   ]
  },
  {
   "cell_type": "markdown",
   "id": "050713ef",
   "metadata": {},
   "source": [
    "## From  the above plot we can observe that more no of Action series are observed in Manga source with 205 as count"
   ]
  },
  {
   "cell_type": "code",
   "execution_count": 61,
   "id": "b7a9abe5",
   "metadata": {
    "scrolled": false
   },
   "outputs": [
    {
     "name": "stderr",
     "output_type": "stream",
     "text": [
      "C:\\Users\\Admin\\Downloads\\anaconda\\lib\\site-packages\\seaborn\\distributions.py:2619: FutureWarning: `distplot` is a deprecated function and will be removed in a future version. Please adapt your code to use either `displot` (a figure-level function with similar flexibility) or `histplot` (an axes-level function for histograms).\n",
      "  warnings.warn(msg, FutureWarning)\n"
     ]
    },
    {
     "data": {
      "image/png": "[encoded data removed]",
      "text/plain": [
       "<Figure size 640x480 with 1 Axes>"
      ]
     },
     "metadata": {},
     "output_type": "display_data"
    }
   ],
   "source": [
    "sns.distplot(df['Rating'],kde=True)\n",
    "plt.show()"
   ]
  },
  {
   "cell_type": "markdown",
   "id": "a7ae51ff",
   "metadata": {},
   "source": [
    "## from the above plot we can observe no of series having high rating lies between 7.36 to 7.49"
   ]
  },
  {
   "cell_type": "code",
   "execution_count": 80,
   "id": "d54b09b8",
   "metadata": {
    "scrolled": true
   },
   "outputs": [
    {
     "data": {
      "image/png": "[encoded data removed]",
      "text/plain": [
       "<Figure size 500x500 with 1 Axes>"
      ]
     },
     "metadata": {},
     "output_type": "display_data"
    }
   ],
   "source": [
    "sns.displot(df[\"Released\"],kde=True)\n",
    "plt.title('Histogram of Released year of Action webseries')\n",
    "plt.show()"
   ]
  },
  {
   "cell_type": "markdown",
   "id": "75357e16",
   "metadata": {},
   "source": [
    "### From the above plot we can identify that  in 2016 more no of action series are released i.e around 38  next even in 2014 and 2015 more series are released (36,35) and least are observed in 1995 and 1992"
   ]
  },
  {
   "cell_type": "code",
   "execution_count": 63,
   "id": "cefebbf9",
   "metadata": {
    "scrolled": false
   },
   "outputs": [
    {
     "data": {
      "image/png": "[encoded data removed]",
      "text/plain": [
       "<Figure size 2500x500 with 1 Axes>"
      ]
     },
     "metadata": {},
     "output_type": "display_data"
    }
   ],
   "source": [
    "plt.figure(figsize=(25,5))\n",
    "sns.countplot(x='Studio', data=df)\n",
    "plt.title(\"Studio of Action webseries\")\n",
    "plt.xticks(rotation=90)\n",
    "plt.show()"
   ]
  },
  {
   "cell_type": "markdown",
   "id": "5dfd7a4a",
   "metadata": {},
   "source": [
    "### From above plot more action series are been shooted in J.c.staff Studio like around 29 also A-1 pictures and Bones  Studios with 28 webseries"
   ]
  },
  {
   "cell_type": "code",
   "execution_count": 64,
   "id": "c31af7a9",
   "metadata": {
    "scrolled": true
   },
   "outputs": [
    {
     "data": {
      "text/plain": [
       "New_webseries    308\n",
       "vintage          140\n",
       "Old_webseries      2\n",
       "Name: New, dtype: int64"
      ]
     },
     "execution_count": 64,
     "metadata": {},
     "output_type": "execute_result"
    }
   ],
   "source": [
    "df[\"New\"].value_counts()"
   ]
  },
  {
   "cell_type": "code",
   "execution_count": 65,
   "id": "49f4cfbd",
   "metadata": {},
   "outputs": [
    {
     "data": {
      "text/html": [
       "<div>\n",
       "<style scoped>\n",
       "    .dataframe tbody tr th:only-of-type {\n",
       "        vertical-align: middle;\n",
       "    }\n",
       "\n",
       "    .dataframe tbody tr th {\n",
       "        vertical-align: top;\n",
       "    }\n",
       "\n",
       "    .dataframe thead th {\n",
       "        text-align: right;\n",
       "    }\n",
       "</style>\n",
       "<table border=\"1\" class=\"dataframe\">\n",
       "  <thead>\n",
       "    <tr style=\"text-align: right;\">\n",
       "      <th></th>\n",
       "      <th>New</th>\n",
       "    </tr>\n",
       "  </thead>\n",
       "  <tbody>\n",
       "    <tr>\n",
       "      <th>New_webseries</th>\n",
       "      <td>308</td>\n",
       "    </tr>\n",
       "    <tr>\n",
       "      <th>vintage</th>\n",
       "      <td>140</td>\n",
       "    </tr>\n",
       "    <tr>\n",
       "      <th>Old_webseries</th>\n",
       "      <td>2</td>\n",
       "    </tr>\n",
       "  </tbody>\n",
       "</table>\n",
       "</div>"
      ],
      "text/plain": [
       "               New\n",
       "New_webseries  308\n",
       "vintage        140\n",
       "Old_webseries    2"
      ]
     },
     "execution_count": 65,
     "metadata": {},
     "output_type": "execute_result"
    }
   ],
   "source": [
    "a =pd.DataFrame(df[\"New\"].value_counts())\n",
    "a"
   ]
  },
  {
   "cell_type": "code",
   "execution_count": 66,
   "id": "d11d4f7a",
   "metadata": {
    "scrolled": true
   },
   "outputs": [
    {
     "data": {
      "image/png": "[encoded data removed]",
      "text/plain": [
       "<Figure size 640x480 with 1 Axes>"
      ]
     },
     "metadata": {},
     "output_type": "display_data"
    }
   ],
   "source": [
    "colors = sns.color_palette('bright')[0:3]\n",
    "plt.pie(a[\"New\"], labels = a.index,colors=colors, autopct='%.2f%%')\n",
    "plt.show()"
   ]
  },
  {
   "cell_type": "markdown",
   "id": "ccc4e3af",
   "metadata": {},
   "source": [
    "### From above pie chart we can observe that about 68.44% webseries come under new and about 31.11% come under vintage and there are relatively less  old webseries i.e 0.44%"
   ]
  },
  {
   "cell_type": "markdown",
   "id": "1929b0ca",
   "metadata": {},
   "source": [
    "# Bi_variate analysis:"
   ]
  },
  {
   "cell_type": "markdown",
   "id": "c90d85d2",
   "metadata": {},
   "source": [
    "# num-num"
   ]
  },
  {
   "cell_type": "code",
   "execution_count": 67,
   "id": "5780e4e0",
   "metadata": {},
   "outputs": [
    {
     "data": {
      "text/html": [
       "<div>\n",
       "<style scoped>\n",
       "    .dataframe tbody tr th:only-of-type {\n",
       "        vertical-align: middle;\n",
       "    }\n",
       "\n",
       "    .dataframe tbody tr th {\n",
       "        vertical-align: top;\n",
       "    }\n",
       "\n",
       "    .dataframe thead th {\n",
       "        text-align: right;\n",
       "    }\n",
       "</style>\n",
       "<table border=\"1\" class=\"dataframe\">\n",
       "  <thead>\n",
       "    <tr style=\"text-align: right;\">\n",
       "      <th></th>\n",
       "      <th>Title</th>\n",
       "      <th>Users</th>\n",
       "      <th>Rating</th>\n",
       "      <th>Released</th>\n",
       "      <th>Source</th>\n",
       "      <th>Studio</th>\n",
       "      <th>Demographic</th>\n",
       "      <th>New</th>\n",
       "    </tr>\n",
       "  </thead>\n",
       "  <tbody>\n",
       "    <tr>\n",
       "      <th>0</th>\n",
       "      <td>Shingeki no Kyojin</td>\n",
       "      <td>3600000</td>\n",
       "      <td>8.53</td>\n",
       "      <td>2013</td>\n",
       "      <td>Manga</td>\n",
       "      <td>Wit studio</td>\n",
       "      <td>Shounen</td>\n",
       "      <td>New_webseries</td>\n",
       "    </tr>\n",
       "    <tr>\n",
       "      <th>1</th>\n",
       "      <td>Fullmetal Alchemist: Brotherhood</td>\n",
       "      <td>3100000</td>\n",
       "      <td>9.11</td>\n",
       "      <td>2009</td>\n",
       "      <td>Manga</td>\n",
       "      <td>Bones</td>\n",
       "      <td>Shounen</td>\n",
       "      <td>vintage</td>\n",
       "    </tr>\n",
       "    <tr>\n",
       "      <th>2</th>\n",
       "      <td>One Punch Man</td>\n",
       "      <td>3000000</td>\n",
       "      <td>8.50</td>\n",
       "      <td>2015</td>\n",
       "      <td>Web manga</td>\n",
       "      <td>Madhouse</td>\n",
       "      <td>Seinen</td>\n",
       "      <td>New_webseries</td>\n",
       "    </tr>\n",
       "    <tr>\n",
       "      <th>3</th>\n",
       "      <td>Sword Art Online</td>\n",
       "      <td>2900000</td>\n",
       "      <td>7.20</td>\n",
       "      <td>2012</td>\n",
       "      <td>Light novel</td>\n",
       "      <td>A-1 pictures</td>\n",
       "      <td>not_given</td>\n",
       "      <td>New_webseries</td>\n",
       "    </tr>\n",
       "    <tr>\n",
       "      <th>4</th>\n",
       "      <td>Boku no Hero Academia</td>\n",
       "      <td>2800000</td>\n",
       "      <td>7.91</td>\n",
       "      <td>2016</td>\n",
       "      <td>Manga</td>\n",
       "      <td>Bones</td>\n",
       "      <td>Shounen</td>\n",
       "      <td>New_webseries</td>\n",
       "    </tr>\n",
       "    <tr>\n",
       "      <th>...</th>\n",
       "      <td>...</td>\n",
       "      <td>...</td>\n",
       "      <td>...</td>\n",
       "      <td>...</td>\n",
       "      <td>...</td>\n",
       "      <td>...</td>\n",
       "      <td>...</td>\n",
       "      <td>...</td>\n",
       "    </tr>\n",
       "    <tr>\n",
       "      <th>453</th>\n",
       "      <td>Nurarihyon no Mago: Sennen Makyou</td>\n",
       "      <td>157000</td>\n",
       "      <td>7.95</td>\n",
       "      <td>2011</td>\n",
       "      <td>Manga</td>\n",
       "      <td>Studio deen</td>\n",
       "      <td>Shounen</td>\n",
       "      <td>vintage</td>\n",
       "    </tr>\n",
       "    <tr>\n",
       "      <th>455</th>\n",
       "      <td>Sengoku Basara</td>\n",
       "      <td>156000</td>\n",
       "      <td>7.34</td>\n",
       "      <td>2009</td>\n",
       "      <td>Game</td>\n",
       "      <td>Production i.g</td>\n",
       "      <td>not_given</td>\n",
       "      <td>vintage</td>\n",
       "    </tr>\n",
       "    <tr>\n",
       "      <th>456</th>\n",
       "      <td>Gantz 2nd Stage</td>\n",
       "      <td>156000</td>\n",
       "      <td>7.04</td>\n",
       "      <td>2004</td>\n",
       "      <td>Manga</td>\n",
       "      <td>Gonzo</td>\n",
       "      <td>Seinen</td>\n",
       "      <td>vintage</td>\n",
       "    </tr>\n",
       "    <tr>\n",
       "      <th>457</th>\n",
       "      <td>Fate/kaleid liner Prisma☆Illya 2wei!</td>\n",
       "      <td>155000</td>\n",
       "      <td>7.23</td>\n",
       "      <td>2014</td>\n",
       "      <td>Manga</td>\n",
       "      <td>Silver link.</td>\n",
       "      <td>not_given</td>\n",
       "      <td>New_webseries</td>\n",
       "    </tr>\n",
       "    <tr>\n",
       "      <th>458</th>\n",
       "      <td>Triage X</td>\n",
       "      <td>154000</td>\n",
       "      <td>6.32</td>\n",
       "      <td>2015</td>\n",
       "      <td>Manga</td>\n",
       "      <td>Xebec</td>\n",
       "      <td>Shounen</td>\n",
       "      <td>New_webseries</td>\n",
       "    </tr>\n",
       "  </tbody>\n",
       "</table>\n",
       "<p>450 rows × 8 columns</p>\n",
       "</div>"
      ],
      "text/plain": [
       "                                    Title    Users  Rating  Released  \\\n",
       "0                      Shingeki no Kyojin  3600000    8.53      2013   \n",
       "1        Fullmetal Alchemist: Brotherhood  3100000    9.11      2009   \n",
       "2                           One Punch Man  3000000    8.50      2015   \n",
       "3                        Sword Art Online  2900000    7.20      2012   \n",
       "4                   Boku no Hero Academia  2800000    7.91      2016   \n",
       "..                                    ...      ...     ...       ...   \n",
       "453     Nurarihyon no Mago: Sennen Makyou   157000    7.95      2011   \n",
       "455                        Sengoku Basara   156000    7.34      2009   \n",
       "456                       Gantz 2nd Stage   156000    7.04      2004   \n",
       "457  Fate/kaleid liner Prisma☆Illya 2wei!   155000    7.23      2014   \n",
       "458                              Triage X   154000    6.32      2015   \n",
       "\n",
       "          Source          Studio Demographic            New  \n",
       "0          Manga      Wit studio     Shounen  New_webseries  \n",
       "1          Manga           Bones     Shounen        vintage  \n",
       "2      Web manga        Madhouse      Seinen  New_webseries  \n",
       "3    Light novel    A-1 pictures   not_given  New_webseries  \n",
       "4          Manga           Bones     Shounen  New_webseries  \n",
       "..           ...             ...         ...            ...  \n",
       "453        Manga     Studio deen     Shounen        vintage  \n",
       "455         Game  Production i.g   not_given        vintage  \n",
       "456        Manga           Gonzo      Seinen        vintage  \n",
       "457        Manga    Silver link.   not_given  New_webseries  \n",
       "458        Manga           Xebec     Shounen  New_webseries  \n",
       "\n",
       "[450 rows x 8 columns]"
      ]
     },
     "execution_count": 67,
     "metadata": {},
     "output_type": "execute_result"
    }
   ],
   "source": [
    "df"
   ]
  },
  {
   "cell_type": "code",
   "execution_count": 68,
   "id": "5c9a16f5",
   "metadata": {
    "scrolled": true
   },
   "outputs": [
    {
     "data": {
      "image/png": "[encoded data removed]",
      "text/plain": [
       "<Figure size 640x480 with 1 Axes>"
      ]
     },
     "metadata": {},
     "output_type": "display_data"
    }
   ],
   "source": [
    "sns.scatterplot(x=df['Released'],y=df['Rating'],data=df)\n",
    "plt.show()"
   ]
  },
  {
   "cell_type": "markdown",
   "id": "d3f15aef",
   "metadata": {
    "scrolled": false
   },
   "source": [
    "### As going from 1990 to 2023 the rating gets increased gradually and mostly from 2005 people started giving ratings to most of webseries"
   ]
  },
  {
   "cell_type": "markdown",
   "id": "882184ec",
   "metadata": {},
   "source": [
    "## num-cat"
   ]
  },
  {
   "cell_type": "code",
   "execution_count": 69,
   "id": "ac80cb09",
   "metadata": {
    "scrolled": true
   },
   "outputs": [
    {
     "data": {
      "text/html": [
       "<div>\n",
       "<style scoped>\n",
       "    .dataframe tbody tr th:only-of-type {\n",
       "        vertical-align: middle;\n",
       "    }\n",
       "\n",
       "    .dataframe tbody tr th {\n",
       "        vertical-align: top;\n",
       "    }\n",
       "\n",
       "    .dataframe thead th {\n",
       "        text-align: right;\n",
       "    }\n",
       "</style>\n",
       "<table border=\"1\" class=\"dataframe\">\n",
       "  <thead>\n",
       "    <tr style=\"text-align: right;\">\n",
       "      <th></th>\n",
       "      <th>Title</th>\n",
       "      <th>Users</th>\n",
       "      <th>Rating</th>\n",
       "      <th>Released</th>\n",
       "      <th>Source</th>\n",
       "      <th>Studio</th>\n",
       "      <th>Demographic</th>\n",
       "      <th>New</th>\n",
       "    </tr>\n",
       "  </thead>\n",
       "  <tbody>\n",
       "    <tr>\n",
       "      <th>0</th>\n",
       "      <td>Shingeki no Kyojin</td>\n",
       "      <td>3600000</td>\n",
       "      <td>8.53</td>\n",
       "      <td>2013</td>\n",
       "      <td>Manga</td>\n",
       "      <td>Wit studio</td>\n",
       "      <td>Shounen</td>\n",
       "      <td>New_webseries</td>\n",
       "    </tr>\n",
       "    <tr>\n",
       "      <th>1</th>\n",
       "      <td>Fullmetal Alchemist: Brotherhood</td>\n",
       "      <td>3100000</td>\n",
       "      <td>9.11</td>\n",
       "      <td>2009</td>\n",
       "      <td>Manga</td>\n",
       "      <td>Bones</td>\n",
       "      <td>Shounen</td>\n",
       "      <td>vintage</td>\n",
       "    </tr>\n",
       "    <tr>\n",
       "      <th>2</th>\n",
       "      <td>One Punch Man</td>\n",
       "      <td>3000000</td>\n",
       "      <td>8.50</td>\n",
       "      <td>2015</td>\n",
       "      <td>Web manga</td>\n",
       "      <td>Madhouse</td>\n",
       "      <td>Seinen</td>\n",
       "      <td>New_webseries</td>\n",
       "    </tr>\n",
       "    <tr>\n",
       "      <th>3</th>\n",
       "      <td>Sword Art Online</td>\n",
       "      <td>2900000</td>\n",
       "      <td>7.20</td>\n",
       "      <td>2012</td>\n",
       "      <td>Light novel</td>\n",
       "      <td>A-1 pictures</td>\n",
       "      <td>not_given</td>\n",
       "      <td>New_webseries</td>\n",
       "    </tr>\n",
       "    <tr>\n",
       "      <th>4</th>\n",
       "      <td>Boku no Hero Academia</td>\n",
       "      <td>2800000</td>\n",
       "      <td>7.91</td>\n",
       "      <td>2016</td>\n",
       "      <td>Manga</td>\n",
       "      <td>Bones</td>\n",
       "      <td>Shounen</td>\n",
       "      <td>New_webseries</td>\n",
       "    </tr>\n",
       "    <tr>\n",
       "      <th>...</th>\n",
       "      <td>...</td>\n",
       "      <td>...</td>\n",
       "      <td>...</td>\n",
       "      <td>...</td>\n",
       "      <td>...</td>\n",
       "      <td>...</td>\n",
       "      <td>...</td>\n",
       "      <td>...</td>\n",
       "    </tr>\n",
       "    <tr>\n",
       "      <th>453</th>\n",
       "      <td>Nurarihyon no Mago: Sennen Makyou</td>\n",
       "      <td>157000</td>\n",
       "      <td>7.95</td>\n",
       "      <td>2011</td>\n",
       "      <td>Manga</td>\n",
       "      <td>Studio deen</td>\n",
       "      <td>Shounen</td>\n",
       "      <td>vintage</td>\n",
       "    </tr>\n",
       "    <tr>\n",
       "      <th>455</th>\n",
       "      <td>Sengoku Basara</td>\n",
       "      <td>156000</td>\n",
       "      <td>7.34</td>\n",
       "      <td>2009</td>\n",
       "      <td>Game</td>\n",
       "      <td>Production i.g</td>\n",
       "      <td>not_given</td>\n",
       "      <td>vintage</td>\n",
       "    </tr>\n",
       "    <tr>\n",
       "      <th>456</th>\n",
       "      <td>Gantz 2nd Stage</td>\n",
       "      <td>156000</td>\n",
       "      <td>7.04</td>\n",
       "      <td>2004</td>\n",
       "      <td>Manga</td>\n",
       "      <td>Gonzo</td>\n",
       "      <td>Seinen</td>\n",
       "      <td>vintage</td>\n",
       "    </tr>\n",
       "    <tr>\n",
       "      <th>457</th>\n",
       "      <td>Fate/kaleid liner Prisma☆Illya 2wei!</td>\n",
       "      <td>155000</td>\n",
       "      <td>7.23</td>\n",
       "      <td>2014</td>\n",
       "      <td>Manga</td>\n",
       "      <td>Silver link.</td>\n",
       "      <td>not_given</td>\n",
       "      <td>New_webseries</td>\n",
       "    </tr>\n",
       "    <tr>\n",
       "      <th>458</th>\n",
       "      <td>Triage X</td>\n",
       "      <td>154000</td>\n",
       "      <td>6.32</td>\n",
       "      <td>2015</td>\n",
       "      <td>Manga</td>\n",
       "      <td>Xebec</td>\n",
       "      <td>Shounen</td>\n",
       "      <td>New_webseries</td>\n",
       "    </tr>\n",
       "  </tbody>\n",
       "</table>\n",
       "<p>450 rows × 8 columns</p>\n",
       "</div>"
      ],
      "text/plain": [
       "                                    Title    Users  Rating  Released  \\\n",
       "0                      Shingeki no Kyojin  3600000    8.53      2013   \n",
       "1        Fullmetal Alchemist: Brotherhood  3100000    9.11      2009   \n",
       "2                           One Punch Man  3000000    8.50      2015   \n",
       "3                        Sword Art Online  2900000    7.20      2012   \n",
       "4                   Boku no Hero Academia  2800000    7.91      2016   \n",
       "..                                    ...      ...     ...       ...   \n",
       "453     Nurarihyon no Mago: Sennen Makyou   157000    7.95      2011   \n",
       "455                        Sengoku Basara   156000    7.34      2009   \n",
       "456                       Gantz 2nd Stage   156000    7.04      2004   \n",
       "457  Fate/kaleid liner Prisma☆Illya 2wei!   155000    7.23      2014   \n",
       "458                              Triage X   154000    6.32      2015   \n",
       "\n",
       "          Source          Studio Demographic            New  \n",
       "0          Manga      Wit studio     Shounen  New_webseries  \n",
       "1          Manga           Bones     Shounen        vintage  \n",
       "2      Web manga        Madhouse      Seinen  New_webseries  \n",
       "3    Light novel    A-1 pictures   not_given  New_webseries  \n",
       "4          Manga           Bones     Shounen  New_webseries  \n",
       "..           ...             ...         ...            ...  \n",
       "453        Manga     Studio deen     Shounen        vintage  \n",
       "455         Game  Production i.g   not_given        vintage  \n",
       "456        Manga           Gonzo      Seinen        vintage  \n",
       "457        Manga    Silver link.   not_given  New_webseries  \n",
       "458        Manga           Xebec     Shounen  New_webseries  \n",
       "\n",
       "[450 rows x 8 columns]"
      ]
     },
     "execution_count": 69,
     "metadata": {},
     "output_type": "execute_result"
    }
   ],
   "source": [
    "df"
   ]
  },
  {
   "cell_type": "code",
   "execution_count": 70,
   "id": "18518539",
   "metadata": {
    "scrolled": true
   },
   "outputs": [
    {
     "data": {
      "image/png": "[encoded data removed]",
      "text/plain": [
       "<Figure size 640x480 with 1 Axes>"
      ]
     },
     "metadata": {},
     "output_type": "display_data"
    }
   ],
   "source": [
    "sns.boxplot(data=df,x='New', y='Rating')\n",
    "plt.xticks(rotation=90)\n",
    "plt.show()"
   ]
  },
  {
   "cell_type": "markdown",
   "id": "f24b4180",
   "metadata": {},
   "source": [
    "### From above plot  only new_webseries have outliers"
   ]
  },
  {
   "cell_type": "code",
   "execution_count": 71,
   "id": "df1b257a",
   "metadata": {
    "scrolled": false
   },
   "outputs": [
    {
     "data": {
      "image/png": "[encoded data removed]",
      "text/plain": [
       "<Figure size 640x480 with 1 Axes>"
      ]
     },
     "metadata": {},
     "output_type": "display_data"
    },
    {
     "data": {
      "text/plain": [
       "<Figure size 1500x1500 with 0 Axes>"
      ]
     },
     "metadata": {},
     "output_type": "display_data"
    }
   ],
   "source": [
    "sns.barplot(x=df['Source'],y=df['Rating'],data=df)\n",
    "plt.xticks(rotation = 90)\n",
    "plt.figure(figsize=(15, 15))\n",
    "plt.show()"
   ]
  },
  {
   "cell_type": "markdown",
   "id": "353e6496",
   "metadata": {},
   "source": [
    "### By seeing the plot web manga has relatively high rating "
   ]
  },
  {
   "cell_type": "code",
   "execution_count": 72,
   "id": "39221f77",
   "metadata": {},
   "outputs": [
    {
     "data": {
      "image/png": "[encoded data removed]",
      "text/plain": [
       "<Figure size 640x480 with 1 Axes>"
      ]
     },
     "metadata": {},
     "output_type": "display_data"
    }
   ],
   "source": [
    "sns.scatterplot(x=df['Released'],y=df['Users'],data=df)\n",
    "plt.show()"
   ]
  },
  {
   "cell_type": "markdown",
   "id": "0fa51055",
   "metadata": {},
   "source": [
    "### From the given plot we can identify from 2005 the users in action anime gradually got increased i.e people who watch action anime users been incresed"
   ]
  },
  {
   "cell_type": "code",
   "execution_count": 73,
   "id": "a2280612",
   "metadata": {
    "scrolled": false
   },
   "outputs": [
    {
     "data": {
      "image/png": "[encoded data removed]",
      "text/plain": [
       "<Figure size 640x480 with 1 Axes>"
      ]
     },
     "metadata": {},
     "output_type": "display_data"
    }
   ],
   "source": [
    "sns.violinplot(x=df['Source'],y=df['Users'],data=df)\n",
    "plt.xticks(rotation = 90)\n",
    "plt.show()"
   ]
  },
  {
   "cell_type": "markdown",
   "id": "4cc784ef",
   "metadata": {},
   "source": [
    "###  From the above plot we can observe Game source has more density of users"
   ]
  },
  {
   "cell_type": "markdown",
   "id": "1652c9f2",
   "metadata": {},
   "source": [
    "# Multivariate analysis"
   ]
  },
  {
   "cell_type": "code",
   "execution_count": 74,
   "id": "4790c56b",
   "metadata": {},
   "outputs": [
    {
     "data": {
      "text/html": [
       "<div>\n",
       "<style scoped>\n",
       "    .dataframe tbody tr th:only-of-type {\n",
       "        vertical-align: middle;\n",
       "    }\n",
       "\n",
       "    .dataframe tbody tr th {\n",
       "        vertical-align: top;\n",
       "    }\n",
       "\n",
       "    .dataframe thead th {\n",
       "        text-align: right;\n",
       "    }\n",
       "</style>\n",
       "<table border=\"1\" class=\"dataframe\">\n",
       "  <thead>\n",
       "    <tr style=\"text-align: right;\">\n",
       "      <th></th>\n",
       "      <th>Users</th>\n",
       "      <th>Rating</th>\n",
       "      <th>Released</th>\n",
       "    </tr>\n",
       "  </thead>\n",
       "  <tbody>\n",
       "    <tr>\n",
       "      <th>0</th>\n",
       "      <td>3600000</td>\n",
       "      <td>8.53</td>\n",
       "      <td>2013</td>\n",
       "    </tr>\n",
       "    <tr>\n",
       "      <th>1</th>\n",
       "      <td>3100000</td>\n",
       "      <td>9.11</td>\n",
       "      <td>2009</td>\n",
       "    </tr>\n",
       "    <tr>\n",
       "      <th>2</th>\n",
       "      <td>3000000</td>\n",
       "      <td>8.50</td>\n",
       "      <td>2015</td>\n",
       "    </tr>\n",
       "    <tr>\n",
       "      <th>3</th>\n",
       "      <td>2900000</td>\n",
       "      <td>7.20</td>\n",
       "      <td>2012</td>\n",
       "    </tr>\n",
       "    <tr>\n",
       "      <th>4</th>\n",
       "      <td>2800000</td>\n",
       "      <td>7.91</td>\n",
       "      <td>2016</td>\n",
       "    </tr>\n",
       "    <tr>\n",
       "      <th>...</th>\n",
       "      <td>...</td>\n",
       "      <td>...</td>\n",
       "      <td>...</td>\n",
       "    </tr>\n",
       "    <tr>\n",
       "      <th>453</th>\n",
       "      <td>157000</td>\n",
       "      <td>7.95</td>\n",
       "      <td>2011</td>\n",
       "    </tr>\n",
       "    <tr>\n",
       "      <th>455</th>\n",
       "      <td>156000</td>\n",
       "      <td>7.34</td>\n",
       "      <td>2009</td>\n",
       "    </tr>\n",
       "    <tr>\n",
       "      <th>456</th>\n",
       "      <td>156000</td>\n",
       "      <td>7.04</td>\n",
       "      <td>2004</td>\n",
       "    </tr>\n",
       "    <tr>\n",
       "      <th>457</th>\n",
       "      <td>155000</td>\n",
       "      <td>7.23</td>\n",
       "      <td>2014</td>\n",
       "    </tr>\n",
       "    <tr>\n",
       "      <th>458</th>\n",
       "      <td>154000</td>\n",
       "      <td>6.32</td>\n",
       "      <td>2015</td>\n",
       "    </tr>\n",
       "  </tbody>\n",
       "</table>\n",
       "<p>450 rows × 3 columns</p>\n",
       "</div>"
      ],
      "text/plain": [
       "       Users  Rating  Released\n",
       "0    3600000    8.53      2013\n",
       "1    3100000    9.11      2009\n",
       "2    3000000    8.50      2015\n",
       "3    2900000    7.20      2012\n",
       "4    2800000    7.91      2016\n",
       "..       ...     ...       ...\n",
       "453   157000    7.95      2011\n",
       "455   156000    7.34      2009\n",
       "456   156000    7.04      2004\n",
       "457   155000    7.23      2014\n",
       "458   154000    6.32      2015\n",
       "\n",
       "[450 rows x 3 columns]"
      ]
     },
     "execution_count": 74,
     "metadata": {},
     "output_type": "execute_result"
    }
   ],
   "source": [
    "s=df.select_dtypes(include='number')\n",
    "s"
   ]
  },
  {
   "cell_type": "code",
   "execution_count": 75,
   "id": "75eef0a0",
   "metadata": {
    "scrolled": true
   },
   "outputs": [
    {
     "data": {
      "text/plain": [
       "<AxesSubplot:>"
      ]
     },
     "execution_count": 75,
     "metadata": {},
     "output_type": "execute_result"
    },
    {
     "data": {
      "image/png": "[encoded data removed]",
      "text/plain": [
       "<Figure size 640x480 with 2 Axes>"
      ]
     },
     "metadata": {},
     "output_type": "display_data"
    }
   ],
   "source": [
    "sns.heatmap(s.corr(),annot=True,linewidth=.5,linecolor='black',cmap='cool')"
   ]
  },
  {
   "cell_type": "markdown",
   "id": "90db784c",
   "metadata": {},
   "source": [
    "## From the given plot we can observe Users and Ratings are positively correlated but released is negetively correlated"
   ]
  },
  {
   "cell_type": "code",
   "execution_count": 76,
   "id": "3a84283e",
   "metadata": {
    "scrolled": true
   },
   "outputs": [
    {
     "data": {
      "image/png": "[encoded data removed]",
      "text/plain": [
       "<Figure size 750x750 with 12 Axes>"
      ]
     },
     "metadata": {},
     "output_type": "display_data"
    }
   ],
   "source": [
    "sns.pairplot(df.head(50))\n",
    "plt.show()"
   ]
  },
  {
   "cell_type": "markdown",
   "id": "66a1c975",
   "metadata": {},
   "source": [
    "## The above plot displays the relationship between multiple variables and univariate representation of each variable in a dataset."
   ]
  },
  {
   "cell_type": "code",
   "execution_count": 77,
   "id": "b76ff33a",
   "metadata": {
    "scrolled": true
   },
   "outputs": [
    {
     "data": {
      "text/html": [
       "<div>\n",
       "<style scoped>\n",
       "    .dataframe tbody tr th:only-of-type {\n",
       "        vertical-align: middle;\n",
       "    }\n",
       "\n",
       "    .dataframe tbody tr th {\n",
       "        vertical-align: top;\n",
       "    }\n",
       "\n",
       "    .dataframe thead th {\n",
       "        text-align: right;\n",
       "    }\n",
       "</style>\n",
       "<table border=\"1\" class=\"dataframe\">\n",
       "  <thead>\n",
       "    <tr style=\"text-align: right;\">\n",
       "      <th></th>\n",
       "      <th>Title</th>\n",
       "      <th>Users</th>\n",
       "      <th>Rating</th>\n",
       "      <th>Released</th>\n",
       "      <th>Source</th>\n",
       "      <th>Studio</th>\n",
       "      <th>Demographic</th>\n",
       "      <th>New</th>\n",
       "    </tr>\n",
       "  </thead>\n",
       "  <tbody>\n",
       "    <tr>\n",
       "      <th>0</th>\n",
       "      <td>Shingeki no Kyojin</td>\n",
       "      <td>3600000</td>\n",
       "      <td>8.53</td>\n",
       "      <td>2013</td>\n",
       "      <td>Manga</td>\n",
       "      <td>Wit studio</td>\n",
       "      <td>Shounen</td>\n",
       "      <td>New_webseries</td>\n",
       "    </tr>\n",
       "    <tr>\n",
       "      <th>1</th>\n",
       "      <td>Fullmetal Alchemist: Brotherhood</td>\n",
       "      <td>3100000</td>\n",
       "      <td>9.11</td>\n",
       "      <td>2009</td>\n",
       "      <td>Manga</td>\n",
       "      <td>Bones</td>\n",
       "      <td>Shounen</td>\n",
       "      <td>vintage</td>\n",
       "    </tr>\n",
       "    <tr>\n",
       "      <th>2</th>\n",
       "      <td>One Punch Man</td>\n",
       "      <td>3000000</td>\n",
       "      <td>8.50</td>\n",
       "      <td>2015</td>\n",
       "      <td>Web manga</td>\n",
       "      <td>Madhouse</td>\n",
       "      <td>Seinen</td>\n",
       "      <td>New_webseries</td>\n",
       "    </tr>\n",
       "    <tr>\n",
       "      <th>3</th>\n",
       "      <td>Sword Art Online</td>\n",
       "      <td>2900000</td>\n",
       "      <td>7.20</td>\n",
       "      <td>2012</td>\n",
       "      <td>Light novel</td>\n",
       "      <td>A-1 pictures</td>\n",
       "      <td>not_given</td>\n",
       "      <td>New_webseries</td>\n",
       "    </tr>\n",
       "    <tr>\n",
       "      <th>4</th>\n",
       "      <td>Boku no Hero Academia</td>\n",
       "      <td>2800000</td>\n",
       "      <td>7.91</td>\n",
       "      <td>2016</td>\n",
       "      <td>Manga</td>\n",
       "      <td>Bones</td>\n",
       "      <td>Shounen</td>\n",
       "      <td>New_webseries</td>\n",
       "    </tr>\n",
       "  </tbody>\n",
       "</table>\n",
       "</div>"
      ],
      "text/plain": [
       "                              Title    Users  Rating  Released       Source  \\\n",
       "0                Shingeki no Kyojin  3600000    8.53      2013        Manga   \n",
       "1  Fullmetal Alchemist: Brotherhood  3100000    9.11      2009        Manga   \n",
       "2                     One Punch Man  3000000    8.50      2015    Web manga   \n",
       "3                  Sword Art Online  2900000    7.20      2012  Light novel   \n",
       "4             Boku no Hero Academia  2800000    7.91      2016        Manga   \n",
       "\n",
       "         Studio Demographic            New  \n",
       "0    Wit studio     Shounen  New_webseries  \n",
       "1         Bones     Shounen        vintage  \n",
       "2      Madhouse      Seinen  New_webseries  \n",
       "3  A-1 pictures   not_given  New_webseries  \n",
       "4         Bones     Shounen  New_webseries  "
      ]
     },
     "execution_count": 77,
     "metadata": {},
     "output_type": "execute_result"
    }
   ],
   "source": [
    "df.head()"
   ]
  },
  {
   "cell_type": "code",
   "execution_count": 78,
   "id": "5e963b84",
   "metadata": {
    "scrolled": true
   },
   "outputs": [
    {
     "data": {
      "text/html": [
       "<div>\n",
       "<style scoped>\n",
       "    .dataframe tbody tr th:only-of-type {\n",
       "        vertical-align: middle;\n",
       "    }\n",
       "\n",
       "    .dataframe tbody tr th {\n",
       "        vertical-align: top;\n",
       "    }\n",
       "\n",
       "    .dataframe thead th {\n",
       "        text-align: right;\n",
       "    }\n",
       "</style>\n",
       "<table border=\"1\" class=\"dataframe\">\n",
       "  <thead>\n",
       "    <tr style=\"text-align: right;\">\n",
       "      <th></th>\n",
       "      <th>Title</th>\n",
       "      <th>Users</th>\n",
       "      <th>Rating</th>\n",
       "      <th>Released</th>\n",
       "      <th>Source</th>\n",
       "      <th>Studio</th>\n",
       "      <th>Demographic</th>\n",
       "      <th>New</th>\n",
       "    </tr>\n",
       "  </thead>\n",
       "  <tbody>\n",
       "    <tr>\n",
       "      <th>0</th>\n",
       "      <td>Shingeki no Kyojin</td>\n",
       "      <td>3600000</td>\n",
       "      <td>8.53</td>\n",
       "      <td>2013</td>\n",
       "      <td>Manga</td>\n",
       "      <td>Wit studio</td>\n",
       "      <td>Shounen</td>\n",
       "      <td>New_webseries</td>\n",
       "    </tr>\n",
       "    <tr>\n",
       "      <th>1</th>\n",
       "      <td>Fullmetal Alchemist: Brotherhood</td>\n",
       "      <td>3100000</td>\n",
       "      <td>9.11</td>\n",
       "      <td>2009</td>\n",
       "      <td>Manga</td>\n",
       "      <td>Bones</td>\n",
       "      <td>Shounen</td>\n",
       "      <td>vintage</td>\n",
       "    </tr>\n",
       "    <tr>\n",
       "      <th>2</th>\n",
       "      <td>One Punch Man</td>\n",
       "      <td>3000000</td>\n",
       "      <td>8.50</td>\n",
       "      <td>2015</td>\n",
       "      <td>Web manga</td>\n",
       "      <td>Madhouse</td>\n",
       "      <td>Seinen</td>\n",
       "      <td>New_webseries</td>\n",
       "    </tr>\n",
       "    <tr>\n",
       "      <th>3</th>\n",
       "      <td>Sword Art Online</td>\n",
       "      <td>2900000</td>\n",
       "      <td>7.20</td>\n",
       "      <td>2012</td>\n",
       "      <td>Light novel</td>\n",
       "      <td>A-1 pictures</td>\n",
       "      <td>not_given</td>\n",
       "      <td>New_webseries</td>\n",
       "    </tr>\n",
       "    <tr>\n",
       "      <th>4</th>\n",
       "      <td>Boku no Hero Academia</td>\n",
       "      <td>2800000</td>\n",
       "      <td>7.91</td>\n",
       "      <td>2016</td>\n",
       "      <td>Manga</td>\n",
       "      <td>Bones</td>\n",
       "      <td>Shounen</td>\n",
       "      <td>New_webseries</td>\n",
       "    </tr>\n",
       "    <tr>\n",
       "      <th>5</th>\n",
       "      <td>Kimetsu no Yaiba</td>\n",
       "      <td>2700000</td>\n",
       "      <td>8.52</td>\n",
       "      <td>2019</td>\n",
       "      <td>Manga</td>\n",
       "      <td>ufotable</td>\n",
       "      <td>Shounen</td>\n",
       "      <td>New_webseries</td>\n",
       "    </tr>\n",
       "    <tr>\n",
       "      <th>6</th>\n",
       "      <td>Naruto</td>\n",
       "      <td>2600000</td>\n",
       "      <td>7.98</td>\n",
       "      <td>2002</td>\n",
       "      <td>Manga</td>\n",
       "      <td>Pierrot</td>\n",
       "      <td>Shounen</td>\n",
       "      <td>vintage</td>\n",
       "    </tr>\n",
       "    <tr>\n",
       "      <th>7</th>\n",
       "      <td>Tokyo Ghoul</td>\n",
       "      <td>2600000</td>\n",
       "      <td>7.79</td>\n",
       "      <td>2014</td>\n",
       "      <td>Manga</td>\n",
       "      <td>Pierrot</td>\n",
       "      <td>Seinen</td>\n",
       "      <td>New_webseries</td>\n",
       "    </tr>\n",
       "    <tr>\n",
       "      <th>8</th>\n",
       "      <td>Hunter x Hunter (2011)</td>\n",
       "      <td>2600000</td>\n",
       "      <td>9.04</td>\n",
       "      <td>2011</td>\n",
       "      <td>Manga</td>\n",
       "      <td>Madhouse</td>\n",
       "      <td>Shounen</td>\n",
       "      <td>vintage</td>\n",
       "    </tr>\n",
       "    <tr>\n",
       "      <th>9</th>\n",
       "      <td>Shingeki no Kyojin Season 2</td>\n",
       "      <td>2500000</td>\n",
       "      <td>8.50</td>\n",
       "      <td>2017</td>\n",
       "      <td>Manga</td>\n",
       "      <td>Wit studio</td>\n",
       "      <td>Shounen</td>\n",
       "      <td>New_webseries</td>\n",
       "    </tr>\n",
       "    <tr>\n",
       "      <th>10</th>\n",
       "      <td>Boku no Hero Academia 2nd Season</td>\n",
       "      <td>2300000</td>\n",
       "      <td>8.13</td>\n",
       "      <td>2017</td>\n",
       "      <td>Manga</td>\n",
       "      <td>Bones</td>\n",
       "      <td>Shounen</td>\n",
       "      <td>New_webseries</td>\n",
       "    </tr>\n",
       "    <tr>\n",
       "      <th>11</th>\n",
       "      <td>Naruto: Shippuuden</td>\n",
       "      <td>2300000</td>\n",
       "      <td>8.25</td>\n",
       "      <td>2007</td>\n",
       "      <td>Manga</td>\n",
       "      <td>Pierrot</td>\n",
       "      <td>Shounen</td>\n",
       "      <td>vintage</td>\n",
       "    </tr>\n",
       "    <tr>\n",
       "      <th>14</th>\n",
       "      <td>Code Geass: Hangyaku no Lelouch</td>\n",
       "      <td>2100000</td>\n",
       "      <td>8.70</td>\n",
       "      <td>2006</td>\n",
       "      <td>Original</td>\n",
       "      <td>Sunrise</td>\n",
       "      <td>not_given</td>\n",
       "      <td>vintage</td>\n",
       "    </tr>\n",
       "    <tr>\n",
       "      <th>15</th>\n",
       "      <td>One Piece</td>\n",
       "      <td>2100000</td>\n",
       "      <td>8.68</td>\n",
       "      <td>1999</td>\n",
       "      <td>Manga</td>\n",
       "      <td>Toei animation</td>\n",
       "      <td>Shounen</td>\n",
       "      <td>vintage</td>\n",
       "    </tr>\n",
       "    <tr>\n",
       "      <th>13</th>\n",
       "      <td>Shingeki no Kyojin Season 3</td>\n",
       "      <td>2100000</td>\n",
       "      <td>8.62</td>\n",
       "      <td>2018</td>\n",
       "      <td>Manga</td>\n",
       "      <td>Wit studio</td>\n",
       "      <td>Shounen</td>\n",
       "      <td>New_webseries</td>\n",
       "    </tr>\n",
       "    <tr>\n",
       "      <th>12</th>\n",
       "      <td>Jujutsu Kaisen</td>\n",
       "      <td>2100000</td>\n",
       "      <td>8.66</td>\n",
       "      <td>2020</td>\n",
       "      <td>Manga</td>\n",
       "      <td>Mappa</td>\n",
       "      <td>Shounen</td>\n",
       "      <td>New_webseries</td>\n",
       "    </tr>\n",
       "    <tr>\n",
       "      <th>16</th>\n",
       "      <td>Noragami</td>\n",
       "      <td>2000000</td>\n",
       "      <td>7.96</td>\n",
       "      <td>2014</td>\n",
       "      <td>Manga</td>\n",
       "      <td>Bones</td>\n",
       "      <td>Shounen</td>\n",
       "      <td>New_webseries</td>\n",
       "    </tr>\n",
       "    <tr>\n",
       "      <th>17</th>\n",
       "      <td>Boku no Hero Academia 3rd Season</td>\n",
       "      <td>2000000</td>\n",
       "      <td>8.06</td>\n",
       "      <td>2018</td>\n",
       "      <td>Manga</td>\n",
       "      <td>Bones</td>\n",
       "      <td>Shounen</td>\n",
       "      <td>New_webseries</td>\n",
       "    </tr>\n",
       "    <tr>\n",
       "      <th>18</th>\n",
       "      <td>Shingeki no Kyojin Season 3 Part 2</td>\n",
       "      <td>2000000</td>\n",
       "      <td>9.06</td>\n",
       "      <td>2019</td>\n",
       "      <td>Manga</td>\n",
       "      <td>Wit studio</td>\n",
       "      <td>Shounen</td>\n",
       "      <td>New_webseries</td>\n",
       "    </tr>\n",
       "    <tr>\n",
       "      <th>19</th>\n",
       "      <td>Akame ga Kill!</td>\n",
       "      <td>2000000</td>\n",
       "      <td>7.47</td>\n",
       "      <td>2014</td>\n",
       "      <td>Manga</td>\n",
       "      <td>White fox</td>\n",
       "      <td>Shounen</td>\n",
       "      <td>New_webseries</td>\n",
       "    </tr>\n",
       "    <tr>\n",
       "      <th>23</th>\n",
       "      <td>Sword Art Online II</td>\n",
       "      <td>1900000</td>\n",
       "      <td>6.70</td>\n",
       "      <td>2014</td>\n",
       "      <td>Light novel</td>\n",
       "      <td>A-1 pictures</td>\n",
       "      <td>not_given</td>\n",
       "      <td>New_webseries</td>\n",
       "    </tr>\n",
       "    <tr>\n",
       "      <th>24</th>\n",
       "      <td>Ansatsu Kyoushitsu</td>\n",
       "      <td>1900000</td>\n",
       "      <td>8.09</td>\n",
       "      <td>2015</td>\n",
       "      <td>Manga</td>\n",
       "      <td>Lerche</td>\n",
       "      <td>Shounen</td>\n",
       "      <td>New_webseries</td>\n",
       "    </tr>\n",
       "    <tr>\n",
       "      <th>22</th>\n",
       "      <td>Mob Psycho 100</td>\n",
       "      <td>1900000</td>\n",
       "      <td>8.49</td>\n",
       "      <td>2016</td>\n",
       "      <td>Web manga</td>\n",
       "      <td>Bones</td>\n",
       "      <td>not_given</td>\n",
       "      <td>New_webseries</td>\n",
       "    </tr>\n",
       "    <tr>\n",
       "      <th>21</th>\n",
       "      <td>Mirai Nikki (TV)</td>\n",
       "      <td>1900000</td>\n",
       "      <td>7.43</td>\n",
       "      <td>2011</td>\n",
       "      <td>Manga</td>\n",
       "      <td>asread.</td>\n",
       "      <td>Shounen</td>\n",
       "      <td>vintage</td>\n",
       "    </tr>\n",
       "    <tr>\n",
       "      <th>20</th>\n",
       "      <td>Nanatsu no Taizai</td>\n",
       "      <td>1900000</td>\n",
       "      <td>7.68</td>\n",
       "      <td>2014</td>\n",
       "      <td>Manga</td>\n",
       "      <td>A-1 pictures</td>\n",
       "      <td>Shounen</td>\n",
       "      <td>New_webseries</td>\n",
       "    </tr>\n",
       "    <tr>\n",
       "      <th>25</th>\n",
       "      <td>Ao no Exorcist</td>\n",
       "      <td>1800000</td>\n",
       "      <td>7.50</td>\n",
       "      <td>2011</td>\n",
       "      <td>Manga</td>\n",
       "      <td>A-1 pictures</td>\n",
       "      <td>Shounen</td>\n",
       "      <td>vintage</td>\n",
       "    </tr>\n",
       "    <tr>\n",
       "      <th>26</th>\n",
       "      <td>Bleach</td>\n",
       "      <td>1800000</td>\n",
       "      <td>7.90</td>\n",
       "      <td>2004</td>\n",
       "      <td>Manga</td>\n",
       "      <td>Pierrot</td>\n",
       "      <td>Shounen</td>\n",
       "      <td>vintage</td>\n",
       "    </tr>\n",
       "    <tr>\n",
       "      <th>27</th>\n",
       "      <td>Shingeki no Kyojin: The Final Season</td>\n",
       "      <td>1800000</td>\n",
       "      <td>8.81</td>\n",
       "      <td>2020</td>\n",
       "      <td>Manga</td>\n",
       "      <td>Mappa</td>\n",
       "      <td>Shounen</td>\n",
       "      <td>New_webseries</td>\n",
       "    </tr>\n",
       "    <tr>\n",
       "      <th>31</th>\n",
       "      <td>Neon Genesis Evangelion</td>\n",
       "      <td>1700000</td>\n",
       "      <td>8.34</td>\n",
       "      <td>1995</td>\n",
       "      <td>Original</td>\n",
       "      <td>Sgainaxtatsunoko production</td>\n",
       "      <td>not_given</td>\n",
       "      <td>vintage</td>\n",
       "    </tr>\n",
       "    <tr>\n",
       "      <th>33</th>\n",
       "      <td>Fairy Tail</td>\n",
       "      <td>1700000</td>\n",
       "      <td>7.58</td>\n",
       "      <td>2009</td>\n",
       "      <td>Manga</td>\n",
       "      <td>Sa-1 picturessatelight</td>\n",
       "      <td>Shounen</td>\n",
       "      <td>vintage</td>\n",
       "    </tr>\n",
       "  </tbody>\n",
       "</table>\n",
       "</div>"
      ],
      "text/plain": [
       "                                   Title    Users  Rating  Released  \\\n",
       "0                     Shingeki no Kyojin  3600000    8.53      2013   \n",
       "1       Fullmetal Alchemist: Brotherhood  3100000    9.11      2009   \n",
       "2                          One Punch Man  3000000    8.50      2015   \n",
       "3                       Sword Art Online  2900000    7.20      2012   \n",
       "4                  Boku no Hero Academia  2800000    7.91      2016   \n",
       "5                       Kimetsu no Yaiba  2700000    8.52      2019   \n",
       "6                                 Naruto  2600000    7.98      2002   \n",
       "7                            Tokyo Ghoul  2600000    7.79      2014   \n",
       "8                 Hunter x Hunter (2011)  2600000    9.04      2011   \n",
       "9            Shingeki no Kyojin Season 2  2500000    8.50      2017   \n",
       "10      Boku no Hero Academia 2nd Season  2300000    8.13      2017   \n",
       "11                    Naruto: Shippuuden  2300000    8.25      2007   \n",
       "14       Code Geass: Hangyaku no Lelouch  2100000    8.70      2006   \n",
       "15                             One Piece  2100000    8.68      1999   \n",
       "13           Shingeki no Kyojin Season 3  2100000    8.62      2018   \n",
       "12                        Jujutsu Kaisen  2100000    8.66      2020   \n",
       "16                              Noragami  2000000    7.96      2014   \n",
       "17      Boku no Hero Academia 3rd Season  2000000    8.06      2018   \n",
       "18    Shingeki no Kyojin Season 3 Part 2  2000000    9.06      2019   \n",
       "19                        Akame ga Kill!  2000000    7.47      2014   \n",
       "23                   Sword Art Online II  1900000    6.70      2014   \n",
       "24                    Ansatsu Kyoushitsu  1900000    8.09      2015   \n",
       "22                        Mob Psycho 100  1900000    8.49      2016   \n",
       "21                      Mirai Nikki (TV)  1900000    7.43      2011   \n",
       "20                     Nanatsu no Taizai  1900000    7.68      2014   \n",
       "25                        Ao no Exorcist  1800000    7.50      2011   \n",
       "26                                Bleach  1800000    7.90      2004   \n",
       "27  Shingeki no Kyojin: The Final Season  1800000    8.81      2020   \n",
       "31               Neon Genesis Evangelion  1700000    8.34      1995   \n",
       "33                            Fairy Tail  1700000    7.58      2009   \n",
       "\n",
       "         Source                       Studio Demographic            New  \n",
       "0         Manga                   Wit studio     Shounen  New_webseries  \n",
       "1         Manga                        Bones     Shounen        vintage  \n",
       "2     Web manga                     Madhouse      Seinen  New_webseries  \n",
       "3   Light novel                 A-1 pictures   not_given  New_webseries  \n",
       "4         Manga                        Bones     Shounen  New_webseries  \n",
       "5         Manga                     ufotable     Shounen  New_webseries  \n",
       "6         Manga                      Pierrot     Shounen        vintage  \n",
       "7         Manga                      Pierrot      Seinen  New_webseries  \n",
       "8         Manga                     Madhouse     Shounen        vintage  \n",
       "9         Manga                   Wit studio     Shounen  New_webseries  \n",
       "10        Manga                        Bones     Shounen  New_webseries  \n",
       "11        Manga                      Pierrot     Shounen        vintage  \n",
       "14     Original                      Sunrise   not_given        vintage  \n",
       "15        Manga               Toei animation     Shounen        vintage  \n",
       "13        Manga                   Wit studio     Shounen  New_webseries  \n",
       "12        Manga                        Mappa     Shounen  New_webseries  \n",
       "16        Manga                        Bones     Shounen  New_webseries  \n",
       "17        Manga                        Bones     Shounen  New_webseries  \n",
       "18        Manga                   Wit studio     Shounen  New_webseries  \n",
       "19        Manga                    White fox     Shounen  New_webseries  \n",
       "23  Light novel                 A-1 pictures   not_given  New_webseries  \n",
       "24        Manga                       Lerche     Shounen  New_webseries  \n",
       "22    Web manga                        Bones   not_given  New_webseries  \n",
       "21        Manga                      asread.     Shounen        vintage  \n",
       "20        Manga                 A-1 pictures     Shounen  New_webseries  \n",
       "25        Manga                 A-1 pictures     Shounen        vintage  \n",
       "26        Manga                      Pierrot     Shounen        vintage  \n",
       "27        Manga                        Mappa     Shounen  New_webseries  \n",
       "31     Original  Sgainaxtatsunoko production   not_given        vintage  \n",
       "33        Manga       Sa-1 picturessatelight     Shounen        vintage  "
      ]
     },
     "execution_count": 78,
     "metadata": {},
     "output_type": "execute_result"
    }
   ],
   "source": [
    "df.sort_values(by=['Users'], ascending=False).head(30)"
   ]
  },
  {
   "cell_type": "markdown",
   "id": "9412edc2",
   "metadata": {},
   "source": [
    "## Analyzing top 10 anime series with users>=1800000 and rating>=8.0 and released year> 2001"
   ]
  },
  {
   "cell_type": "code",
   "execution_count": 79,
   "id": "f314de05",
   "metadata": {},
   "outputs": [
    {
     "data": {
      "text/html": [
       "<div>\n",
       "<style scoped>\n",
       "    .dataframe tbody tr th:only-of-type {\n",
       "        vertical-align: middle;\n",
       "    }\n",
       "\n",
       "    .dataframe tbody tr th {\n",
       "        vertical-align: top;\n",
       "    }\n",
       "\n",
       "    .dataframe thead th {\n",
       "        text-align: right;\n",
       "    }\n",
       "</style>\n",
       "<table border=\"1\" class=\"dataframe\">\n",
       "  <thead>\n",
       "    <tr style=\"text-align: right;\">\n",
       "      <th></th>\n",
       "      <th>Title</th>\n",
       "      <th>Users</th>\n",
       "      <th>Rating</th>\n",
       "      <th>Released</th>\n",
       "      <th>Source</th>\n",
       "      <th>Studio</th>\n",
       "      <th>Demographic</th>\n",
       "      <th>New</th>\n",
       "    </tr>\n",
       "  </thead>\n",
       "  <tbody>\n",
       "    <tr>\n",
       "      <th>0</th>\n",
       "      <td>Shingeki no Kyojin</td>\n",
       "      <td>3600000</td>\n",
       "      <td>8.53</td>\n",
       "      <td>2013</td>\n",
       "      <td>Manga</td>\n",
       "      <td>Wit studio</td>\n",
       "      <td>Shounen</td>\n",
       "      <td>New_webseries</td>\n",
       "    </tr>\n",
       "    <tr>\n",
       "      <th>2</th>\n",
       "      <td>One Punch Man</td>\n",
       "      <td>3000000</td>\n",
       "      <td>8.50</td>\n",
       "      <td>2015</td>\n",
       "      <td>Web manga</td>\n",
       "      <td>Madhouse</td>\n",
       "      <td>Seinen</td>\n",
       "      <td>New_webseries</td>\n",
       "    </tr>\n",
       "    <tr>\n",
       "      <th>5</th>\n",
       "      <td>Kimetsu no Yaiba</td>\n",
       "      <td>2700000</td>\n",
       "      <td>8.52</td>\n",
       "      <td>2019</td>\n",
       "      <td>Manga</td>\n",
       "      <td>ufotable</td>\n",
       "      <td>Shounen</td>\n",
       "      <td>New_webseries</td>\n",
       "    </tr>\n",
       "    <tr>\n",
       "      <th>9</th>\n",
       "      <td>Shingeki no Kyojin Season 2</td>\n",
       "      <td>2500000</td>\n",
       "      <td>8.50</td>\n",
       "      <td>2017</td>\n",
       "      <td>Manga</td>\n",
       "      <td>Wit studio</td>\n",
       "      <td>Shounen</td>\n",
       "      <td>New_webseries</td>\n",
       "    </tr>\n",
       "    <tr>\n",
       "      <th>10</th>\n",
       "      <td>Boku no Hero Academia 2nd Season</td>\n",
       "      <td>2300000</td>\n",
       "      <td>8.13</td>\n",
       "      <td>2017</td>\n",
       "      <td>Manga</td>\n",
       "      <td>Bones</td>\n",
       "      <td>Shounen</td>\n",
       "      <td>New_webseries</td>\n",
       "    </tr>\n",
       "    <tr>\n",
       "      <th>12</th>\n",
       "      <td>Jujutsu Kaisen</td>\n",
       "      <td>2100000</td>\n",
       "      <td>8.66</td>\n",
       "      <td>2020</td>\n",
       "      <td>Manga</td>\n",
       "      <td>Mappa</td>\n",
       "      <td>Shounen</td>\n",
       "      <td>New_webseries</td>\n",
       "    </tr>\n",
       "    <tr>\n",
       "      <th>13</th>\n",
       "      <td>Shingeki no Kyojin Season 3</td>\n",
       "      <td>2100000</td>\n",
       "      <td>8.62</td>\n",
       "      <td>2018</td>\n",
       "      <td>Manga</td>\n",
       "      <td>Wit studio</td>\n",
       "      <td>Shounen</td>\n",
       "      <td>New_webseries</td>\n",
       "    </tr>\n",
       "    <tr>\n",
       "      <th>17</th>\n",
       "      <td>Boku no Hero Academia 3rd Season</td>\n",
       "      <td>2000000</td>\n",
       "      <td>8.06</td>\n",
       "      <td>2018</td>\n",
       "      <td>Manga</td>\n",
       "      <td>Bones</td>\n",
       "      <td>Shounen</td>\n",
       "      <td>New_webseries</td>\n",
       "    </tr>\n",
       "    <tr>\n",
       "      <th>18</th>\n",
       "      <td>Shingeki no Kyojin Season 3 Part 2</td>\n",
       "      <td>2000000</td>\n",
       "      <td>9.06</td>\n",
       "      <td>2019</td>\n",
       "      <td>Manga</td>\n",
       "      <td>Wit studio</td>\n",
       "      <td>Shounen</td>\n",
       "      <td>New_webseries</td>\n",
       "    </tr>\n",
       "    <tr>\n",
       "      <th>22</th>\n",
       "      <td>Mob Psycho 100</td>\n",
       "      <td>1900000</td>\n",
       "      <td>8.49</td>\n",
       "      <td>2016</td>\n",
       "      <td>Web manga</td>\n",
       "      <td>Bones</td>\n",
       "      <td>not_given</td>\n",
       "      <td>New_webseries</td>\n",
       "    </tr>\n",
       "  </tbody>\n",
       "</table>\n",
       "</div>"
      ],
      "text/plain": [
       "                                 Title    Users  Rating  Released     Source  \\\n",
       "0                   Shingeki no Kyojin  3600000    8.53      2013      Manga   \n",
       "2                        One Punch Man  3000000    8.50      2015  Web manga   \n",
       "5                     Kimetsu no Yaiba  2700000    8.52      2019      Manga   \n",
       "9          Shingeki no Kyojin Season 2  2500000    8.50      2017      Manga   \n",
       "10    Boku no Hero Academia 2nd Season  2300000    8.13      2017      Manga   \n",
       "12                      Jujutsu Kaisen  2100000    8.66      2020      Manga   \n",
       "13         Shingeki no Kyojin Season 3  2100000    8.62      2018      Manga   \n",
       "17    Boku no Hero Academia 3rd Season  2000000    8.06      2018      Manga   \n",
       "18  Shingeki no Kyojin Season 3 Part 2  2000000    9.06      2019      Manga   \n",
       "22                      Mob Psycho 100  1900000    8.49      2016  Web manga   \n",
       "\n",
       "        Studio Demographic            New  \n",
       "0   Wit studio     Shounen  New_webseries  \n",
       "2     Madhouse      Seinen  New_webseries  \n",
       "5     ufotable     Shounen  New_webseries  \n",
       "9   Wit studio     Shounen  New_webseries  \n",
       "10       Bones     Shounen  New_webseries  \n",
       "12       Mappa     Shounen  New_webseries  \n",
       "13  Wit studio     Shounen  New_webseries  \n",
       "17       Bones     Shounen  New_webseries  \n",
       "18  Wit studio     Shounen  New_webseries  \n",
       "22       Bones   not_given  New_webseries  "
      ]
     },
     "execution_count": 79,
     "metadata": {},
     "output_type": "execute_result"
    }
   ],
   "source": [
    "df[(df['Users']>=1800000) & (df['Rating']>=8.0) & (df['Released']>2011)].head(10)"
   ]
  },
  {
   "cell_type": "code",
   "execution_count": null,
   "id": "fead32f8",
   "metadata": {},
   "outputs": [],
   "source": []
  }
 ],
 "metadata": {
  "kernelspec": {
   "display_name": "Python 3 (ipykernel)",
   "language": "python",
   "name": "python3"
  },
  "language_info": {
   "codemirror_mode": {
    "name": "ipython",
    "version": 3
   },
   "file_extension": ".py",
   "mimetype": "text/x-python",
   "name": "python",
   "nbconvert_exporter": "python",
   "pygments_lexer": "ipython3",
   "version": "3.9.13"
  }
 },
 "nbformat": 4,
 "nbformat_minor": 5
}
